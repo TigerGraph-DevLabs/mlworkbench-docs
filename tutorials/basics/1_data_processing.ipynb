{
 "cells": [
  {
   "cell_type": "markdown",
   "id": "5acd0f87-69b7-4696-8d30-a68218279bdc",
   "metadata": {},
   "source": [
    "# Data Processing"
   ]
  },
  {
   "cell_type": "markdown",
   "id": "6bb9e3e6-502b-422a-8dc2-51bcf13a3762",
   "metadata": {},
   "source": [
    "This notebook demonstrates how to use `pyTigerGraph` for common data processing tasks on graphs stored in `TigerGraph`."
   ]
  },
  {
   "cell_type": "markdown",
   "id": "41083b3a",
   "metadata": {},
   "source": [
    "**NOTE**: Currently, your database needs to be activated (only once) to enjoy all the functions provided by the ML Workbench. If you are using ML Workbench on Cloud, then the activator is included and you can run the cell below (uncomment first) to activate. For other versions of the Workbench, you can download the activator at https://act.tigergraphlabs.com. Detailed instructions are also included on that website. "
   ]
  },
  {
   "cell_type": "code",
   "execution_count": null,
   "id": "8d1dd5b5",
   "metadata": {},
   "outputs": [],
   "source": [
    "# Uncomment below and fill out the necessary information. For detailed instructions, please see https://act.tigergraphlabs.com\n",
    "# !mlwb activate [database address] -u [username] -p [password] -s [secret]"
   ]
  },
  {
   "cell_type": "markdown",
   "id": "b1c820d8-7919-481a-a9a6-36a4fbc9c43f",
   "metadata": {},
   "source": [
    "### Connection to Database"
   ]
  },
  {
   "cell_type": "markdown",
   "id": "8d2211e5-7eda-4f80-87ad-d0dea6fbdf7a",
   "metadata": {},
   "source": [
    "The `TigerGraphConnection` class represents a connection to the TigerGraph database. Under the hood, it stores the necessary information to communicate with the database. It is able to perform quite a few database tasks. Please see its [documentation](https://docs.tigergraph.com/pytigergraph/current/intro/) for details."
   ]
  },
  {
   "cell_type": "code",
   "execution_count": 2,
   "id": "1cf261f1-f0b5-40de-ac56-7578c675b1ce",
   "metadata": {},
   "outputs": [],
   "source": [
    "from pyTigerGraph import TigerGraphConnection\n",
    "\n",
    "conn = TigerGraphConnection(\n",
    "    host=\"http://127.0.0.1\", # Change the address to your database server's\n",
    "    graphname=\"Cora\",\n",
    "    username=\"tigergraph\",\n",
    "    password=\"tigergraph\",\n",
    ")"
   ]
  },
  {
   "cell_type": "markdown",
   "id": "2aade600",
   "metadata": {},
   "source": [
    "<span style=\"color:red\">Uncomment cell below and run to get and set token if token authentication is enabled</span>. \n",
    "* This is required for all databases on tgcloud.\n",
    "* `<secret>` is your user secret. See https://docs.tigergraph.com/tigergraph-server/current/user-access/managing-credentials#_secrets for details.\n",
    "* If you don't know your secret, you can use `secret=conn.createSecret()` to create one."
   ]
  },
  {
   "cell_type": "code",
   "execution_count": null,
   "id": "5ecc2947",
   "metadata": {},
   "outputs": [],
   "source": [
    "#conn.getToken(<secret>)"
   ]
  },
  {
   "cell_type": "code",
   "execution_count": 3,
   "id": "938a7022-98f2-49ca-98cd-9569eb434e13",
   "metadata": {},
   "outputs": [
    {
     "name": "stdout",
     "output_type": "stream",
     "text": [
      "---- Graph Cora\n",
      "Vertex Types:\n",
      "- VERTEX Paper(PRIMARY_ID id INT, x LIST<INT>, y INT, train_mask BOOL, val_mask BOOL, test_mask BOOL) WITH STATS=\"OUTDEGREE_BY_EDGETYPE\", PRIMARY_ID_AS_ATTRIBUTE=\"true\"\n",
      "Edge Types:\n",
      "- DIRECTED EDGE Cite(FROM Paper, TO Paper, time INT, is_train BOOL, is_val BOOL)\n",
      "\n",
      "Graphs:\n",
      "- Graph Cora(Paper:v, Cite:e)\n",
      "Jobs:\n",
      "- CREATE LOADING JOB load_cora_data FOR GRAPH Cora {\n",
      "DEFINE FILENAME edge_csv = \"./edges.csv\";\n",
      "DEFINE FILENAME node_csv = \"./nodes.csv\";\n",
      "LOAD node_csv TO VERTEX Paper VALUES($\"id\", SPLIT($\"x\", \" \"), $\"y\", $\"train\", $\"valid\", $\"test\") USING SEPARATOR=\",\", HEADER=\"true\", EOL=\"\\n\";\n",
      "LOAD edge_csv TO EDGE Cite VALUES($\"source\", $\"target\", _, _, _) USING SEPARATOR=\",\", HEADER=\"true\", EOL=\"\\n\";\n",
      "}\n",
      "\n",
      "- CREATE SCHEMA_CHANGE JOB Cora_job FOR GRAPH Cora {\n",
      "ADD VERTEX Paper(PRIMARY_ID id INT, x LIST<INT>, y INT, train_mask BOOL, val_mask BOOL, test_mask BOOL) WITH STATS=\"OUTDEGREE_BY_EDGETYPE\", PRIMARY_ID_AS_ATTRIBUTE=\"true\";\n",
      "ADD DIRECTED EDGE Cite(FROM Paper, TO Paper, time INT, is_train BOOL, is_val BOOL);\n",
      "}\n",
      "\n",
      "Queries:\n",
      "\n",
      "\n",
      "\n",
      "\n"
     ]
    }
   ],
   "source": [
    "# Graph schema and other information.\n",
    "print(conn.gsql(\"ls\"))"
   ]
  },
  {
   "cell_type": "code",
   "execution_count": 4,
   "id": "0c64295a-aa75-4fc7-9579-601d3b22b1cf",
   "metadata": {},
   "outputs": [
    {
     "data": {
      "text/plain": [
       "{'Paper': 2708}"
      ]
     },
     "execution_count": 4,
     "metadata": {},
     "output_type": "execute_result"
    }
   ],
   "source": [
    "# Number of vertices for every vertex type\n",
    "conn.getVertexCount('*')"
   ]
  },
  {
   "cell_type": "code",
   "execution_count": 5,
   "id": "34956134-548b-4627-b3d2-f10a0b07f008",
   "metadata": {},
   "outputs": [
    {
     "data": {
      "text/plain": [
       "2708"
      ]
     },
     "execution_count": 5,
     "metadata": {},
     "output_type": "execute_result"
    }
   ],
   "source": [
    "# Number of vertices of a specific type\n",
    "conn.getVertexCount(\"Paper\")"
   ]
  },
  {
   "cell_type": "code",
   "execution_count": 6,
   "id": "2b1e3c01-f4d3-4405-a3d8-6ca6802f4f8b",
   "metadata": {},
   "outputs": [
    {
     "data": {
      "text/plain": [
       "{'Cite': 10556}"
      ]
     },
     "execution_count": 6,
     "metadata": {},
     "output_type": "execute_result"
    }
   ],
   "source": [
    "# Number of edges for every type\n",
    "conn.getEdgeCount()"
   ]
  },
  {
   "cell_type": "code",
   "execution_count": 7,
   "id": "05b1aabd-9615-4bb1-b134-7859cb3b4a47",
   "metadata": {},
   "outputs": [
    {
     "data": {
      "text/plain": [
       "10556"
      ]
     },
     "execution_count": 7,
     "metadata": {},
     "output_type": "execute_result"
    }
   ],
   "source": [
    "# Number of edges of a specific type\n",
    "conn.getEdgeCount(\"Cite\")"
   ]
  },
  {
   "cell_type": "markdown",
   "id": "e62f1cb8-4112-4874-8f53-2265495f9613",
   "metadata": {
    "tags": []
   },
   "source": [
    "### Random Vertex Split"
   ]
  },
  {
   "cell_type": "markdown",
   "id": "d934ae5a-50af-45f1-ad10-2910d04ada78",
   "metadata": {},
   "source": [
    "The `VertexSplitter` split vertices into at most 3 parts randomly. The split results are stored in the provided vertex attributes. Each boolean attribute indicates which part a vertex belongs to. For example, if you want to split the vertices into 80% train, 10% validation and 10% test, you can provide as arguments to the splitter `train_mask=0.8, val_mask=0.1, test_mask=0.1`. The 3 attributes `train_mask`, `val_mask`, `test_mask` have to exist in the graph. 80% of vertices will be set to `train_mask=True`, 10% to `val_mask=True`, and 10% to `test_mask=True` at random. There will be no overlap between the partitions."
   ]
  },
  {
   "cell_type": "code",
   "execution_count": 8,
   "id": "9c86a13a-bbf6-4da3-809e-8646efba1925",
   "metadata": {},
   "outputs": [
    {
     "name": "stdout",
     "output_type": "stream",
     "text": [
      "Installing and optimizing queries. It might take a minute if this is the first time you use this loader.\n",
      "Query installation finished.\n",
      "CPU times: user 309 ms, sys: 201 ms, total: 509 ms\n",
      "Wall time: 2min 2s\n"
     ]
    }
   ],
   "source": [
    "%%time\n",
    "split = conn.gds.vertexSplitter(train_mask=0.8, val_mask=0.1, test_mask=0.1)\n"
   ]
  },
  {
   "cell_type": "code",
   "execution_count": 9,
   "id": "2aef530a",
   "metadata": {},
   "outputs": [
    {
     "name": "stdout",
     "output_type": "stream",
     "text": [
      "Splitting vertices...\n",
      "Vertex split finished successfully.\n",
      "CPU times: user 4.86 ms, sys: 3.05 ms, total: 7.91 ms\n",
      "Wall time: 62.8 ms\n"
     ]
    }
   ],
   "source": [
    "%%time\n",
    "split.run()"
   ]
  },
  {
   "cell_type": "markdown",
   "id": "ad3191d5-d043-4e39-95cc-87d499f4f467",
   "metadata": {},
   "source": [
    "Now the split is done. Load all vertices and check if the split is correct. See the next tutorial for details on `VertexLoader` and other data loaders. "
   ]
  },
  {
   "cell_type": "code",
   "execution_count": 10,
   "id": "259b65af-0f43-46cb-9f3e-0786f2f7fb41",
   "metadata": {},
   "outputs": [
    {
     "name": "stdout",
     "output_type": "stream",
     "text": [
      "Installing and optimizing queries. It might take a minute if this is the first time you use this loader.\n",
      "Query installation finished.\n",
      "CPU times: user 5.47 ms, sys: 3.94 ms, total: 9.41 ms\n",
      "Wall time: 28.1 s\n"
     ]
    }
   ],
   "source": [
    "%%time\n",
    "vertex_loader = conn.gds.vertexLoader(attributes=[\"train_mask\", \"val_mask\", \"test_mask\"])"
   ]
  },
  {
   "cell_type": "code",
   "execution_count": 11,
   "id": "ce88477c-f298-49d9-8411-9d33b6a174f1",
   "metadata": {},
   "outputs": [
    {
     "name": "stdout",
     "output_type": "stream",
     "text": [
      "CPU times: user 19 ms, sys: 1.25 ms, total: 20.2 ms\n",
      "Wall time: 44.5 ms\n"
     ]
    }
   ],
   "source": [
    "%%time\n",
    "data = vertex_loader.data"
   ]
  },
  {
   "cell_type": "code",
   "execution_count": 12,
   "id": "9737291d-304f-43bb-83e8-50cef365a754",
   "metadata": {},
   "outputs": [
    {
     "data": {
      "text/plain": [
       "(0.7950516986706057, 0.10118168389955687, 0.10376661742983752)"
      ]
     },
     "execution_count": 12,
     "metadata": {},
     "output_type": "execute_result"
    }
   ],
   "source": [
    "data.train_mask.sum()/len(data), data.val_mask.sum()/len(data), data.test_mask.sum()/len(data)"
   ]
  },
  {
   "cell_type": "markdown",
   "id": "c3d8b7c4",
   "metadata": {},
   "source": [
    "### Random Edge Split"
   ]
  },
  {
   "cell_type": "markdown",
   "id": "8dbe9608",
   "metadata": {},
   "source": [
    "The `EdgeSplitter` split edges into at most 3 parts randomly. The split results are stored in the provided edge attributes. Each boolean attribute indicates which part an edge belongs to. For example, if you want to split the edges into 80% train and 20% validation, you can provide as arguments to the splitter `is_train=0.8, is_val=0.2`. The 2 attributes `is_train`, `is_val` have to exist in the graph. 80% of edges will be set to `is_train=True`, 20% to `is_val=True` at random. There will be no overlap between the partitions."
   ]
  },
  {
   "cell_type": "code",
   "execution_count": 13,
   "id": "c36a0c57",
   "metadata": {},
   "outputs": [
    {
     "name": "stdout",
     "output_type": "stream",
     "text": [
      "Installing and optimizing queries. It might take a minute if this is the first time you use this loader.\n",
      "Query installation finished.\n",
      "CPU times: user 6.87 ms, sys: 3.78 ms, total: 10.7 ms\n",
      "Wall time: 28.8 s\n"
     ]
    }
   ],
   "source": [
    "%%time\n",
    "splitter = conn.gds.edgeSplitter(is_train=0.8, is_val=0.2)"
   ]
  },
  {
   "cell_type": "code",
   "execution_count": 14,
   "id": "dfcced92",
   "metadata": {},
   "outputs": [
    {
     "name": "stdout",
     "output_type": "stream",
     "text": [
      "Splitting edges...\n",
      "Edge split finished successfully.\n",
      "CPU times: user 4.56 ms, sys: 247 µs, total: 4.81 ms\n",
      "Wall time: 82.3 ms\n"
     ]
    }
   ],
   "source": [
    "%%time\n",
    "splitter.run()"
   ]
  },
  {
   "cell_type": "markdown",
   "id": "8c5f3bab",
   "metadata": {},
   "source": [
    "Now the split is done. Load all edges and check if the split is correct. See the next tutorial for details on `EdgeLoader` and other data loaders. "
   ]
  },
  {
   "cell_type": "code",
   "execution_count": 15,
   "id": "f6bf6d11",
   "metadata": {},
   "outputs": [
    {
     "name": "stdout",
     "output_type": "stream",
     "text": [
      "Installing and optimizing queries. It might take a minute if this is the first time you use this loader.\n",
      "Query installation finished.\n",
      "CPU times: user 7.02 ms, sys: 3.56 ms, total: 10.6 ms\n",
      "Wall time: 32.8 s\n"
     ]
    }
   ],
   "source": [
    "%%time\n",
    "edge_loader = conn.gds.edgeLoader(attributes=[\"is_train\", \"is_val\"])"
   ]
  },
  {
   "cell_type": "code",
   "execution_count": 16,
   "id": "fadd0237",
   "metadata": {},
   "outputs": [
    {
     "name": "stdout",
     "output_type": "stream",
     "text": [
      "CPU times: user 11.3 ms, sys: 1.69 ms, total: 12.9 ms\n",
      "Wall time: 37.3 ms\n"
     ]
    }
   ],
   "source": [
    "%%time\n",
    "data = edge_loader.data"
   ]
  },
  {
   "cell_type": "code",
   "execution_count": 17,
   "id": "c986b474",
   "metadata": {},
   "outputs": [
    {
     "data": {
      "text/plain": [
       "(0.8020083364910952, 0.19799166350890487)"
      ]
     },
     "execution_count": 17,
     "metadata": {},
     "output_type": "execute_result"
    }
   ],
   "source": [
    "data.is_train.sum()/len(data), data.is_val.sum()/len(data)"
   ]
  },
  {
   "cell_type": "code",
   "execution_count": null,
   "id": "d32dc9d8-600d-42b1-871b-399379556bd4",
   "metadata": {},
   "outputs": [],
   "source": []
  }
 ],
 "metadata": {
  "environment": {
   "name": "pytorch-gpu.1-9.m81",
   "type": "gcloud",
   "uri": "gcr.io/deeplearning-platform-release/pytorch-gpu.1-9:m81"
  },
  "kernelspec": {
   "display_name": "PyTorch",
   "language": "python",
   "name": "python3"
  },
  "language_info": {
   "codemirror_mode": {
    "name": "ipython",
    "version": 3
   },
   "file_extension": ".py",
   "mimetype": "text/x-python",
   "name": "python",
   "nbconvert_exporter": "python",
   "pygments_lexer": "ipython3",
   "version": "3.9.13"
  }
 },
 "nbformat": 4,
 "nbformat_minor": 5
}
