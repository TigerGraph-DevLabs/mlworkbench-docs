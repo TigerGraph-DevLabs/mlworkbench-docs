{
 "cells": [
  {
   "cell_type": "markdown",
   "id": "a0753d0e-9062-409d-8308-3d536bfa9d1c",
   "metadata": {},
   "source": [
    "# Featurizer\n",
    "This notebook demonstrates how to use `pyTigerGraph` for feature engineering tasks on graphs stored in `TigerGraph`."
   ]
  },
  {
   "cell_type": "markdown",
   "id": "40a4cccc",
   "metadata": {},
   "source": [
    "**NOTE**: Currently, your database needs to be activated (only once) to enjoy all the functions provided by the ML Workbench. If you are using ML Workbench on Cloud, then the activator is included and you can run the cell below (uncomment first) to activate. For other versions of the Workbench, you can download the activator at https://act.tigergraphlabs.com. Detailed instructions are also included on that website. "
   ]
  },
  {
   "cell_type": "code",
   "execution_count": null,
   "id": "3330c5b2",
   "metadata": {},
   "outputs": [],
   "source": [
    "# Uncomment below and fill out the necessary information. For detailed instructions, please see https://act.tigergraphlabs.com\n",
    "# !mlwb activate [database address] -u [username] -p [password] -s [secret]"
   ]
  },
  {
   "cell_type": "markdown",
   "id": "c9f16295-3f06-48a6-83ec-bd5692b3990c",
   "metadata": {},
   "source": [
    "## Connection to Database\n",
    "\n",
    "The `TigerGraphConnection` class represents a connection to the TigerGraph database. Under the hood, it stores the necessary information to communicate with the database. It is able to perform quite a few database tasks. Please see its [documentation](https://docs.tigergraph.com/pytigergraph/current/intro/) for details."
   ]
  },
  {
   "cell_type": "code",
   "execution_count": null,
   "id": "95391f04-3b1c-4c3b-ba2f-165b36dc82b7",
   "metadata": {},
   "outputs": [],
   "source": [
    "from pyTigerGraph import TigerGraphConnection\n",
    "\n",
    "conn = TigerGraphConnection(\n",
    "    host=\"http://127.0.0.1\", # Change the address to your database server's\n",
    "    graphname=\"Cora\",\n",
    "    username=\"tigergraph\",\n",
    "    password=\"tigergraph\",\n",
    ")"
   ]
  },
  {
   "cell_type": "markdown",
   "id": "6c57a1c2",
   "metadata": {},
   "source": [
    "<span style=\"color:red\">Uncomment cell below and run to get and set token if token authentication is enabled</span>. \n",
    "* This is required for all databases on tgcloud.\n",
    "* `<secret>` is your user secret. See https://docs.tigergraph.com/tigergraph-server/current/user-access/managing-credentials#_secrets for details.\n",
    "* If you don't know your secret, you can use `secret=conn.createSecret()` to create one."
   ]
  },
  {
   "cell_type": "code",
   "execution_count": null,
   "id": "a1d2084b",
   "metadata": {},
   "outputs": [],
   "source": [
    "#conn.getToken(<secret>)"
   ]
  },
  {
   "cell_type": "code",
   "execution_count": null,
   "id": "857a0f72-abf7-426a-b556-c41ae69a81a7",
   "metadata": {},
   "outputs": [],
   "source": [
    "# Graph schema and other information.\n",
    "print(conn.gsql(\"ls\"))"
   ]
  },
  {
   "cell_type": "code",
   "execution_count": null,
   "id": "21c77ec0-c6a8-474b-ac4e-526b562d7f59",
   "metadata": {},
   "outputs": [],
   "source": [
    "# Number of vertices for every vertex type\n",
    "conn.getVertexCount('*')"
   ]
  },
  {
   "cell_type": "code",
   "execution_count": null,
   "id": "0209af7a-f2e0-4e23-88e4-bd7573246bc9",
   "metadata": {},
   "outputs": [],
   "source": [
    "# Number of vertices of a specific type\n",
    "conn.getVertexCount(\"Paper\")"
   ]
  },
  {
   "cell_type": "code",
   "execution_count": null,
   "id": "8299b1b2-49f4-4c2f-8054-b824eb77c42c",
   "metadata": {},
   "outputs": [],
   "source": [
    "# Number of edges for every type\n",
    "conn.getEdgeCount()"
   ]
  },
  {
   "cell_type": "code",
   "execution_count": null,
   "id": "a197b0e5-0ed1-4158-9a54-270db3d72670",
   "metadata": {},
   "outputs": [],
   "source": [
    "# Number of edges of a specific type\n",
    "conn.getEdgeCount(\"Cite\")"
   ]
  },
  {
   "cell_type": "markdown",
   "id": "4d4e2dcf-8c6f-43e1-9f58-1040cd503b9b",
   "metadata": {},
   "source": [
    "## Feature Engineering\n",
    "The ML Workbench includes quite a few graph algorithms to perform feature engineering tasks. The key functions are:\n",
    "\n",
    "1. `listAlgorithm()`: If it gets the class of algorithms (e.g. Centrality) as an input, it will print the available algorithms for    the specified category; otherwise will print all available algorithms. \n",
    "2. `installAlgorithm()`: Gets tha name of the algorithmm as input and installs the algorithm if it is not already installed. \n",
    "3. `runAlgorithmm()`: Gets the algorithm name, schema type (e.g. vertex/edge, by default it is vertex), attribute name (if the result needs to be stored as an attribute in the database), and a list of schema type names (list of vertices/edges that the attribute needs to be saved in, by default it is for all vertices/edges).  "
   ]
  },
  {
   "cell_type": "code",
   "execution_count": null,
   "id": "8fef49ee-d207-4d80-ac77-e93c111cf067",
   "metadata": {},
   "outputs": [],
   "source": [
    "f = conn.gds.featurizer()"
   ]
  },
  {
   "cell_type": "code",
   "execution_count": null,
   "id": "8dc84a85-1d89-42c3-8362-129d48fe9d7b",
   "metadata": {},
   "outputs": [],
   "source": [
    "f.listAlgorithms()"
   ]
  },
  {
   "cell_type": "markdown",
   "id": "fbf9b776-8f90-4a98-92b4-9220333ba819",
   "metadata": {},
   "source": [
    "### Examples of running graph algorithms from GDS library\n",
    "In the following, one example of each class of algorithms are provided. Some algorithms will generate a feature per vertex/edge; other algorithms will calculate a number or statistics about the graph. For example, the common neighbor algorithm calculates the number of common neighbors between two vertices."
   ]
  },
  {
   "cell_type": "markdown",
   "id": "8b56f301-3982-4118-8fbf-dfc34fe06708",
   "metadata": {},
   "source": [
    "#### Get Pagerank as a feature\n",
    "The pagerank is available in GDS library called tg_pagerank under the class of centrality algorithms https://github.com/tigergraph/gsql-graph-algorithms/blob/master/algorithms/Centrality/pagerank/global/unweighted/tg_pagerank.gsql."
   ]
  },
  {
   "cell_type": "code",
   "execution_count": null,
   "id": "193c865e-e061-4a91-82ab-df666b304df5",
   "metadata": {},
   "outputs": [],
   "source": [
    "f.installAlgorithm(\"tg_pagerank\")"
   ]
  },
  {
   "cell_type": "code",
   "execution_count": null,
   "id": "ba833564-b0e5-4782-a941-2a02f475f0b8",
   "metadata": {},
   "outputs": [],
   "source": [
    "params = {'v_type': 'Paper', 'e_type': 'Cite', 'max_change': 0.001, 'max_iter': 25, 'damping': 0.85,\n",
    "          'top_k': 10, 'print_accum': True, 'result_attr': '', 'file_path': '', 'display_edges': False}\n",
    "\n",
    "f.runAlgorithm(\n",
    "    'tg_pagerank', \n",
    "    params=params, \n",
    "    feat_name=\"pagerank\",\n",
    "    global_schema=False, # If a global schema change is needed to add an attribute, set it to True.\n",
    "    timeout=2147480, \n",
    "    sizeLimit=2000000\n",
    ")\n"
   ]
  },
  {
   "cell_type": "markdown",
   "id": "b68be5d7-794d-48b8-98c6-a4c90bd4981b",
   "metadata": {},
   "source": [
    "#### Run Maximal Independent Set\n",
    "The Maximal Independent Set algorithm is available in GDS library called tg_maximal_indep_set under the class of classification algorithms https://github.com/tigergraph/gsql-graph-algorithms/blob/master/algorithms/Classification/maximal_independent_set/deterministic/tg_maximal_indep_set.gsql."
   ]
  },
  {
   "cell_type": "code",
   "execution_count": null,
   "id": "26652f72-0bb9-45d7-bdff-3ad1c95cc13a",
   "metadata": {},
   "outputs": [],
   "source": [
    "f.installAlgorithm(\"tg_maximal_indep_set\")"
   ]
  },
  {
   "cell_type": "code",
   "execution_count": null,
   "id": "734f4859-ac44-4f0e-ad45-685175850d4b",
   "metadata": {},
   "outputs": [],
   "source": [
    "params = {'v_type': 'Paper', 'e_type': 'Cite',\n",
    "          'max_iter': 100, 'print_accum': False, 'file_path': ''}\n",
    "\n",
    "f.runAlgorithm('tg_maximal_indep_set', params=params)\n"
   ]
  },
  {
   "cell_type": "markdown",
   "id": "1d7dd25c-b73f-4f4f-89de-97b2318ae7fd",
   "metadata": {},
   "source": [
    "#### Get Louvain as a feature\n",
    "The Louvain algorithm is available in GDS library called tg_louvain under the class of community detection algorithms  https://github.com/tigergraph/gsql-graph-algorithms/blob/master/algorithms/Community/louvain/tg_louvain.gsql."
   ]
  },
  {
   "cell_type": "code",
   "execution_count": null,
   "id": "fdfa669c-4d41-4a49-b824-c90231d3bae6",
   "metadata": {},
   "outputs": [],
   "source": [
    "f.installAlgorithm(query_name='tg_louvain')"
   ]
  },
  {
   "cell_type": "code",
   "execution_count": null,
   "id": "33787c45-1b8f-4c12-ad61-95a6ca66132e",
   "metadata": {},
   "outputs": [],
   "source": [
    "params = {'v_type': 'Paper', 'e_type': ['Cite', 'reverse_Cite'], 'wt_attr': \"\",\n",
    "          'max_iter': 10, 'result_attr': \"cid\", 'file_path': \"\", 'print_info': True}\n",
    "\n",
    "f.runAlgorithm(\n",
    "    'tg_louvain', \n",
    "    params, \n",
    "    feat_name=\"cid\",\n",
    "    global_schema=False # If a global schema change is needed to add an attribute, set it to True.\n",
    ")\n"
   ]
  },
  {
   "cell_type": "markdown",
   "id": "f53df280-c428-40da-b3ec-32de0a3cd673",
   "metadata": {},
   "source": [
    "#### Get fastRP as a feature\n",
    "The fastRP algorithm is available in GDS library called tg_fastRP under the class of graph embedding algorithms  https://github.com/tigergraph/gsql-graph-algorithms/blob/master/algorithms/GraphML/Embeddings/FastRP/tg_fastRP.gsql."
   ]
  },
  {
   "cell_type": "code",
   "execution_count": null,
   "id": "6d64019f-64a0-4d8c-a1d1-41dcafb29d3a",
   "metadata": {},
   "outputs": [],
   "source": [
    "f.installAlgorithm(\n",
    "    \"tg_fastRP\", \n",
    "    global_change = False # If a global schema change is needed to add an attribute, set it to True.\n",
    ")"
   ]
  },
  {
   "cell_type": "code",
   "execution_count": null,
   "id": "9a0d0b1c-9ab4-4af7-8025-439f5876ab04",
   "metadata": {},
   "outputs": [],
   "source": [
    "params = {'v_type': 'Paper', 'e_type': ['Cite', 'reverse_Cite'], 'weights': '1,1,2', 'beta': -0.85, 'k': 3, 'reduced_dim': 128,\n",
    "          'sampling_constant': 1, 'random_seed': 42, 'print_accum': False, 'result_attr': \"\", 'file_path': \"\"}\n",
    "f.runAlgorithm(\n",
    "    'tg_fastRP', \n",
    "    params, \n",
    "    feat_name=\"fastrp_embedding\"\n",
    ")\n"
   ]
  },
  {
   "cell_type": "markdown",
   "id": "c97c9c3a-91b3-4f20-83aa-35dd838cbf93",
   "metadata": {},
   "source": [
    "#### Run Breadth-First Search Algorithm from a single source node\n",
    "The Breadth-First Search algorithm is available in GDS library called tg_bfs under the class of Path algorithms https://github.com/tigergraph/gsql-graph-algorithms/blob/master/algorithms/Path/bfs/tg_bfs.gsql."
   ]
  },
  {
   "cell_type": "code",
   "execution_count": null,
   "id": "61608118-07f1-4fdf-b279-a49deedb2546",
   "metadata": {},
   "outputs": [],
   "source": [
    "f.installAlgorithm(query_name='tg_bfs')"
   ]
  },
  {
   "cell_type": "code",
   "execution_count": null,
   "id": "93d282e8-dc33-49c7-9a85-7f823929cd71",
   "metadata": {},
   "outputs": [],
   "source": [
    "params = {'v_type': 'Paper', 'e_type': ['Cite', 'reverse_Cite'], 'max_hops': 10, \"v_start\": (\"2180\", \"Paper\"),\n",
    "          'print_accum': False, 'result_attr': \"\", 'file_path': \"\", 'display_edges': False}\n",
    "\n",
    "f.runAlgorithm('tg_bfs', params, feat_name=\"bfs\")\n"
   ]
  },
  {
   "cell_type": "markdown",
   "id": "c31fe4dd-6b1f-4e8c-adb2-6a0cee5b5097",
   "metadata": {},
   "source": [
    "#### Calculates the number of common neighbors between two vertices\n",
    "The common neighbors algorithm is available in GDS library called tg_common_neighbors under the class of Topological Link Prediction algorithms https://github.com/tigergraph/gsql-graph-algorithms/blob/master/algorithms/Topological%20Link%20Prediction/common_neighbors/tg_common_neighbors.gsql\n"
   ]
  },
  {
   "cell_type": "code",
   "execution_count": null,
   "id": "da474ae2-26d2-4849-a4f5-f79ddd4a51e5",
   "metadata": {},
   "outputs": [],
   "source": [
    "f.installAlgorithm(query_name='tg_common_neighbors')  "
   ]
  },
  {
   "cell_type": "code",
   "execution_count": null,
   "id": "d72b37a5-70bd-4d79-b493-ee8f236e7cf1",
   "metadata": {},
   "outputs": [],
   "source": [
    "params = {\"a\": (\"2180\", \"Paper\"), \"b\": (\"431\", \"Paper\"),\n",
    "          \"e_type\": \"Cite\", \"print_res\": True}\n",
    "\n",
    "f.runAlgorithm('tg_common_neighbors', params)\n"
   ]
  },
  {
   "cell_type": "markdown",
   "id": "96972672",
   "metadata": {},
   "source": [
    "### Use User Defined Query"
   ]
  },
  {
   "cell_type": "code",
   "execution_count": null,
   "id": "959565d1",
   "metadata": {},
   "outputs": [],
   "source": [
    "user_defined_query1 = '''CREATE QUERY user_defined_query1() FOR GRAPH Cora { \n",
    "  PRINT \"user_defined_query works!\"; \n",
    "}'''\n",
    "\n",
    "print(user_defined_query1)"
   ]
  },
  {
   "cell_type": "code",
   "execution_count": null,
   "id": "f5646bd7",
   "metadata": {},
   "outputs": [],
   "source": [
    "outFileName=\"./user_defined_query1.gsql\"\n",
    "outFile=open(outFileName, \"w\")\n",
    "outFile.write(user_defined_query1)\n",
    "outFile.close()"
   ]
  },
  {
   "cell_type": "code",
   "execution_count": null,
   "id": "6174919c",
   "metadata": {},
   "outputs": [],
   "source": [
    "f.installAlgorithm(query_name=\"user_defined_query1\", query_path=\"./user_defined_query1.gsql\" )"
   ]
  },
  {
   "cell_type": "code",
   "execution_count": null,
   "id": "5cbc62fc",
   "metadata": {},
   "outputs": [],
   "source": [
    "f.runAlgorithm(query_name=\"user_defined_query1\", custom_query=True)"
   ]
  },
  {
   "cell_type": "code",
   "execution_count": null,
   "id": "0eb4c8a6-76d4-43ec-9af0-08496ba9cc04",
   "metadata": {},
   "outputs": [],
   "source": []
  }
 ],
 "metadata": {
  "interpreter": {
   "hash": "86339a571aa1685b1bf33ba9ca33ff3e2e27be4a4a583dd76d4cb23b04832e59"
  },
  "kernelspec": {
   "display_name": "PyTorch",
   "language": "python",
   "name": "python3"
  },
  "language_info": {
   "codemirror_mode": {
    "name": "ipython",
    "version": 3
   },
   "file_extension": ".py",
   "mimetype": "text/x-python",
   "name": "python",
   "nbconvert_exporter": "python",
   "pygments_lexer": "ipython3",
   "version": "3.9.13"
  }
 },
 "nbformat": 4,
 "nbformat_minor": 5
}
