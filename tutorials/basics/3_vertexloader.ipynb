{
 "cells": [
  {
   "cell_type": "markdown",
   "id": "31a41fec-c7f0-4752-b57a-efb428327343",
   "metadata": {
    "tags": []
   },
   "source": [
    "## Data Loaders"
   ]
  },
  {
   "cell_type": "markdown",
   "id": "85d51c63-ed05-43d4-9e02-7d13763b5011",
   "metadata": {},
   "source": [
    "This notebook demonstrates the use of **vertex loader** in `pyTigerGraph`. The job of a data loader is to pull data from the TigerGraph database. Currently, the following data loaders are provided:\n",
    "* EdgeLoader, which returns batches of edges.\n",
    "* VertexLoader, which returns batches of vertices.\n",
    "* GraphLoader, which returns randomly sampled (probably disconnected) subgraphs in pandas `dataframe`, `PyG` or `DGL` format.\n",
    "* NeighborLoader, which returns subgraphs using neighbor sampling in `dataframe`, `PyG` or `DGL` format.\n",
    "* EdgeNeighborLoader, which returns subgraphs using neighbor sampling from edges in `dataframe`, `PyG` or `DGL` format.\n",
    "\n",
    "Every data loader above can either get all the batches as a HTTP response (default) or stream every batch through Kafka. The former mechanism is good for testing with small graphs and it is fast, but it subjects to a data size limit of 2GB. For large graphs, the HTTP channel will likely fail due to size limit and network connectivity issues. Streaming via Kafka is offered for data robustness and scalability. Also, Kafka excels at multi-consumer use cases, and it is efficient for model search or hyperparameter tuning when there are multiiple consumers of the same data. \n",
    "\n",
    "The data loaders support both homogeneous and heterogenous graphs. By default, they load from all vertex and edge types and treat the graph as a homogeneous graph. But they also allow users to specify what vertex and edge types to load from and what attributes to load from each type. This way users will get heterogeneous graph outputs.\n",
    "\n",
    "**NOTE**: Currently, your database needs to be activated (only once) to enjoy all the functions provided by the ML Workbench. If you are using ML Workbench on Cloud, then the activator is included and you can run the cell below (uncomment first) to activate. For other versions of the Workbench, you can download the activator at https://act.tigergraphlabs.com. Detailed instructions are also included on that website. "
   ]
  },
  {
   "cell_type": "code",
   "execution_count": null,
   "id": "631580fb",
   "metadata": {},
   "outputs": [],
   "source": [
    "# Uncomment below and fill out the necessary information. For detailed instructions, please see https://act.tigergraphlabs.com\n",
    "# !mlwb activate [database address] -u [username] -p [password] -s [secret]"
   ]
  },
  {
   "cell_type": "markdown",
   "id": "ee9243a4-69ae-4a04-ab82-dc6d393e0cb7",
   "metadata": {},
   "source": [
    "### Connection to Database"
   ]
  },
  {
   "cell_type": "markdown",
   "id": "9ff08e15-5d93-4f30-8a9d-6b101b1604e4",
   "metadata": {},
   "source": [
    "The `TigerGraphConnection` class represents a connection to the TigerGraph database. Under the hood, it stores the necessary information to communicate with the database. It is able to perform quite a few database tasks. Please see its [documentation](https://docs.tigergraph.com/pytigergraph/current/intro/) for details."
   ]
  },
  {
   "cell_type": "code",
   "execution_count": 2,
   "id": "c2c4b1e8-a0e2-4026-9bb1-218cdc7ca4b9",
   "metadata": {},
   "outputs": [],
   "source": [
    "from pyTigerGraph import TigerGraphConnection\n",
    "\n",
    "conn = TigerGraphConnection(\n",
    "    host=\"http://127.0.0.1\", # Change the address to your database server's\n",
    "    graphname=\"Cora\",\n",
    "    username=\"tigergraph\",\n",
    "    password=\"tigergraph\",\n",
    ")"
   ]
  },
  {
   "cell_type": "markdown",
   "id": "f0b86c77",
   "metadata": {},
   "source": [
    "<span style=\"color:red\">Uncomment cell below and run to get and set token if token authentication is enabled</span>. \n",
    "* This is required for all databases on tgcloud.\n",
    "* `<secret>` is your user secret. See https://docs.tigergraph.com/tigergraph-server/current/user-access/managing-credentials#_secrets for details.\n",
    "* If you don't know your secret, you can use `secret=conn.createSecret()` to create one."
   ]
  },
  {
   "cell_type": "code",
   "execution_count": null,
   "id": "d815e4c7",
   "metadata": {},
   "outputs": [],
   "source": [
    "#conn.getToken(<secret>)"
   ]
  },
  {
   "cell_type": "code",
   "execution_count": 3,
   "id": "a1dd0252-a5e5-47ee-acce-b843571c78cc",
   "metadata": {},
   "outputs": [
    {
     "data": {
      "text/plain": [
       "{'Paper': 2708}"
      ]
     },
     "execution_count": 3,
     "metadata": {},
     "output_type": "execute_result"
    }
   ],
   "source": [
    "# Number of vertices for every vertex type\n",
    "conn.getVertexCount('*')"
   ]
  },
  {
   "cell_type": "code",
   "execution_count": 4,
   "id": "318f1998-1179-4ae2-9f1b-d1b032076c03",
   "metadata": {},
   "outputs": [
    {
     "data": {
      "text/plain": [
       "{'Cite': 10556}"
      ]
     },
     "execution_count": 4,
     "metadata": {},
     "output_type": "execute_result"
    }
   ],
   "source": [
    "# Number of edges for every type\n",
    "conn.getEdgeCount()"
   ]
  },
  {
   "cell_type": "markdown",
   "id": "7ad2cc34-545d-4220-8938-e3eda1797fda",
   "metadata": {},
   "source": [
    "### Vertex Loader"
   ]
  },
  {
   "cell_type": "markdown",
   "id": "b490831c-409e-4234-9c7c-775273ca698b",
   "metadata": {},
   "source": [
    "`VertexLoader` pulls batches of vertices from database. Specifically, it divides vertices into `num_batches` and returns each batch separately. The boolean attribute provided to `filter_by` indicates which vertices are included. If you need random batches, set `shuffle` to True.\n",
    "\n",
    "**Note**: For the first time you initialize the loader on a graph in TigerGraph, the initialization might take a minute as it installs the corresponding query to the database and optimizes it. However, the query installation only needs to be done once, so it will take no time when you initialize the loader on the same TG graph again.\n",
    "\n",
    "There are two ways to use the data loader. See [here](https://github.com/TigerGraph-DevLabs/mlworkbench-docs/blob/main/tutorials/basics/2_dataloaders.ipynb) for examples.\n",
    "* First, it can be used as an iterable, which means you can loop through it to get every batch of data. If you load all vertices at once (`num_batches=1`), there will be only one batch (of all the vertices) in the iterator.\n",
    "* Second, you can access the `data` property of the class directly. If there is only one batch of data to load, it will give you the batch directly instead of an iterator, which might make more sense in that case. If there are multiple batches of data to load, it will return the loader again.\n",
    "\n",
    "Args:\n",
    "* attributes (list or dict, optional):\n",
    "                Vertex attributes to be included. If it is a list, then the attributes\n",
    "                in the list from all vertex types will be selected. An error will be thrown if\n",
    "                certain attribute doesn't exist in all vertex types. If it is a dict, keys of the \n",
    "                dict are vertex types to be selected, and values are lists of attributes to be \n",
    "                selected for each vertex type. Defaults to None.\n",
    "* batch_size (int, optional):\n",
    "                Number of vertices in each batch.\n",
    "                Defaults to None.\n",
    "* num_batches (int, optional):\n",
    "                Number of batches to split the vertices.\n",
    "                Defaults to 1.\n",
    "* shuffle (bool, optional):\n",
    "                Whether to shuffle the vertices before loading data.\n",
    "                Defaults to False.\n",
    "* filter_by (str, optional):\n",
    "                A boolean attribute used to indicate which vertices\n",
    "                can be included. Defaults to None.\n",
    "* output_format (str, optional):\n",
    "                Format of the output data of the loader. Only\n",
    "                \"dataframe\" is supported. Defaults to \"dataframe\".\n",
    "* loader_id (str, optional):\n",
    "                An identifier of the loader which can be any string. It is\n",
    "                also used as the Kafka topic name. If `None`, a random string will be generated\n",
    "                for it. Defaults to None.\n",
    "* buffer_size (int, optional):\n",
    "                Number of data batches to prefetch and store in memory. Defaults to 4.\n",
    "* timeout (int, optional):\n",
    "                Timeout value for GSQL queries, in ms. Defaults to 300000."
   ]
  },
  {
   "cell_type": "markdown",
   "id": "c87676b8-ca4f-403d-87a6-9763be1eb12e",
   "metadata": {},
   "source": [
    "#### Load all vertices at once directly to local. Default."
   ]
  },
  {
   "cell_type": "code",
   "execution_count": 6,
   "id": "5c97ade5-c5f3-41e2-b089-b55b578af5bd",
   "metadata": {},
   "outputs": [
    {
     "name": "stdout",
     "output_type": "stream",
     "text": [
      "Installing and optimizing queries. It might take a minute if this is the first time you use this loader.\n",
      "Query installation finished.\n",
      "CPU times: user 223 ms, sys: 34.9 ms, total: 258 ms\n",
      "Wall time: 1min 1s\n"
     ]
    }
   ],
   "source": [
    "%%time\n",
    "vertex_loader = conn.gds.vertexLoader(\n",
    "    num_batches=1, \n",
    "    attributes=[\"id\", \"x\", \"y\"])\n",
    "# Note: an unique ID (vid) of each vertex will be automatically generated and extracted. \n",
    "# If you want the primary ID of each vertex, specify it as an attribute."
   ]
  },
  {
   "cell_type": "code",
   "execution_count": 7,
   "id": "8fdb27e5-6816-4b56-b570-1af1d5179978",
   "metadata": {},
   "outputs": [
    {
     "name": "stdout",
     "output_type": "stream",
     "text": [
      "CPU times: user 94.4 ms, sys: 33.9 ms, total: 128 ms\n",
      "Wall time: 225 ms\n"
     ]
    },
    {
     "data": {
      "text/plain": [
       "(2708, 4)"
      ]
     },
     "execution_count": 7,
     "metadata": {},
     "output_type": "execute_result"
    }
   ],
   "source": [
    "%%time\n",
    "# Get the only batch of data via the `data` property\n",
    "data = vertex_loader.data\n",
    "data.shape"
   ]
  },
  {
   "cell_type": "code",
   "execution_count": 8,
   "id": "84f7c0a0-2770-4ceb-82b1-3ab8e511f920",
   "metadata": {},
   "outputs": [
    {
     "data": {
      "text/html": [
       "<div>\n",
       "<style scoped>\n",
       "    .dataframe tbody tr th:only-of-type {\n",
       "        vertical-align: middle;\n",
       "    }\n",
       "\n",
       "    .dataframe tbody tr th {\n",
       "        vertical-align: top;\n",
       "    }\n",
       "\n",
       "    .dataframe thead th {\n",
       "        text-align: right;\n",
       "    }\n",
       "</style>\n",
       "<table border=\"1\" class=\"dataframe\">\n",
       "  <thead>\n",
       "    <tr style=\"text-align: right;\">\n",
       "      <th></th>\n",
       "      <th>vid</th>\n",
       "      <th>id</th>\n",
       "      <th>x</th>\n",
       "      <th>y</th>\n",
       "    </tr>\n",
       "  </thead>\n",
       "  <tbody>\n",
       "    <tr>\n",
       "      <th>0</th>\n",
       "      <td>0</td>\n",
       "      <td>1596</td>\n",
       "      <td>0 0 0 0 0 0 0 0 0 0 0 0 0 0 0 0 0 0 0 0 0 0 0 ...</td>\n",
       "      <td>2</td>\n",
       "    </tr>\n",
       "    <tr>\n",
       "      <th>1</th>\n",
       "      <td>1</td>\n",
       "      <td>2703</td>\n",
       "      <td>0 0 0 0 0 1 0 0 0 0 0 0 0 0 0 0 0 0 0 1 0 0 0 ...</td>\n",
       "      <td>3</td>\n",
       "    </tr>\n",
       "    <tr>\n",
       "      <th>2</th>\n",
       "      <td>2</td>\n",
       "      <td>2379</td>\n",
       "      <td>0 0 0 0 0 0 0 0 0 0 0 0 0 0 0 0 0 0 0 1 0 0 0 ...</td>\n",
       "      <td>4</td>\n",
       "    </tr>\n",
       "    <tr>\n",
       "      <th>3</th>\n",
       "      <td>3</td>\n",
       "      <td>1480</td>\n",
       "      <td>0 0 0 0 0 0 0 0 0 0 0 0 0 0 0 0 0 0 0 0 0 0 0 ...</td>\n",
       "      <td>2</td>\n",
       "    </tr>\n",
       "    <tr>\n",
       "      <th>4</th>\n",
       "      <td>4</td>\n",
       "      <td>2163</td>\n",
       "      <td>0 0 0 0 0 0 0 0 0 0 0 0 0 0 0 0 0 0 0 1 0 0 0 ...</td>\n",
       "      <td>3</td>\n",
       "    </tr>\n",
       "  </tbody>\n",
       "</table>\n",
       "</div>"
      ],
      "text/plain": [
       "   vid    id                                                  x  y\n",
       "0    0  1596  0 0 0 0 0 0 0 0 0 0 0 0 0 0 0 0 0 0 0 0 0 0 0 ...  2\n",
       "1    1  2703  0 0 0 0 0 1 0 0 0 0 0 0 0 0 0 0 0 0 0 1 0 0 0 ...  3\n",
       "2    2  2379  0 0 0 0 0 0 0 0 0 0 0 0 0 0 0 0 0 0 0 1 0 0 0 ...  4\n",
       "3    3  1480  0 0 0 0 0 0 0 0 0 0 0 0 0 0 0 0 0 0 0 0 0 0 0 ...  2\n",
       "4    4  2163  0 0 0 0 0 0 0 0 0 0 0 0 0 0 0 0 0 0 0 1 0 0 0 ...  3"
      ]
     },
     "execution_count": 8,
     "metadata": {},
     "output_type": "execute_result"
    }
   ],
   "source": [
    "data.head()"
   ]
  },
  {
   "cell_type": "markdown",
   "id": "cfa8148f-7b40-4b5b-ab48-22cbacae090e",
   "metadata": {},
   "source": [
    "#### Get batches of vertices through http"
   ]
  },
  {
   "cell_type": "code",
   "execution_count": 9,
   "id": "be7bada1-6c98-42ec-a5c5-e72a593615f6",
   "metadata": {},
   "outputs": [
    {
     "name": "stdout",
     "output_type": "stream",
     "text": [
      "CPU times: user 6.27 ms, sys: 1.24 ms, total: 7.52 ms\n",
      "Wall time: 10.6 ms\n"
     ]
    }
   ],
   "source": [
    "%%time\n",
    "vertex_loader = conn.gds.vertexLoader( \n",
    "    num_batches=20, \n",
    "    attributes=[\"id\", \"x\", \"y\"],\n",
    "    shuffle=True,\n",
    "    filter_by=None\n",
    ")"
   ]
  },
  {
   "cell_type": "code",
   "execution_count": 10,
   "id": "b03b264a-5649-4d6d-a320-292f5f8890cc",
   "metadata": {},
   "outputs": [
    {
     "name": "stdout",
     "output_type": "stream",
     "text": [
      "----Batch 0: Shape (131, 4)----\n",
      "       vid    id                                                  x  y\n",
      "0  5242900  1395  0 0 0 0 0 0 0 0 0 0 0 0 0 0 0 0 0 0 0 0 0 0 0 ...  0\n",
      "----Batch 1: Shape (144, 4)----\n",
      "       vid    id                                                  x  y\n",
      "0  6291456  2292  0 0 0 1 0 0 0 0 0 0 0 0 0 0 0 0 0 0 0 1 0 0 0 ...  4\n",
      "----Batch 2: Shape (148, 4)----\n",
      "       vid    id                                                  x  y\n",
      "0  7340051  1935  0 0 0 0 0 0 0 0 0 0 0 0 0 0 0 0 0 0 0 0 0 0 0 ...  3\n",
      "----Batch 3: Shape (141, 4)----\n",
      "        vid    id                                                  x  y\n",
      "0  14680101  1986  0 0 0 0 0 0 0 0 0 0 0 0 0 0 0 0 0 0 0 0 0 0 0 ...  3\n",
      "----Batch 4: Shape (149, 4)----\n",
      "   vid    id                                                  x  y\n",
      "0   21  1824  0 0 0 0 1 0 0 0 0 0 0 0 0 0 0 0 0 0 0 0 0 0 0 ...  5\n",
      "----Batch 5: Shape (150, 4)----\n",
      "        vid    id                                                  x  y\n",
      "0  15728645  1459  0 0 0 0 0 0 0 0 0 0 0 0 0 0 0 0 0 0 0 0 0 0 0 ...  1\n",
      "----Batch 6: Shape (131, 4)----\n",
      "       vid   id                                                  x  y\n",
      "0  3145742  969  0 0 0 0 0 0 0 0 0 0 0 0 0 0 0 0 0 0 0 0 0 0 0 ...  2\n",
      "----Batch 7: Shape (136, 4)----\n",
      "       vid    id                                                  x  y\n",
      "0  9437187  1731  0 0 0 0 0 0 0 0 0 0 0 0 0 0 0 0 0 0 0 0 0 0 0 ...  2\n",
      "----Batch 8: Shape (112, 4)----\n",
      "        vid   id                                                  x  y\n",
      "0  10485771  993  0 0 0 0 0 0 0 0 0 0 0 0 0 0 0 0 0 0 0 0 0 0 0 ...  6\n",
      "----Batch 9: Shape (153, 4)----\n",
      "        vid    id                                                  x  y\n",
      "0  10485762  1084  0 0 0 0 0 0 0 0 0 0 0 0 0 0 0 0 0 0 0 0 0 0 0 ...  3\n",
      "----Batch 10: Shape (135, 4)----\n",
      "        vid    id                                                  x  y\n",
      "0  11534338  1657  0 0 0 0 0 0 0 0 0 0 0 0 0 0 0 0 0 0 0 0 0 0 0 ...  3\n",
      "----Batch 11: Shape (134, 4)----\n",
      "   vid    id                                                  x  y\n",
      "0    0  1596  0 0 0 0 0 0 0 0 0 0 0 0 0 0 0 0 0 0 0 0 0 0 0 ...  2\n",
      "----Batch 12: Shape (139, 4)----\n",
      "       vid   id                                                  x  y\n",
      "0  2097164  773  0 0 0 0 0 0 0 0 0 0 0 0 0 0 0 0 0 0 0 0 0 0 0 ...  1\n",
      "----Batch 13: Shape (128, 4)----\n",
      "        vid    id                                                  x  y\n",
      "0  12583005  1213  0 0 0 1 0 0 0 0 0 0 0 0 0 0 0 0 0 0 0 0 0 0 0 ...  3\n",
      "----Batch 14: Shape (111, 4)----\n",
      "       vid   id                                                  x  y\n",
      "0  8388641  456  0 0 0 1 0 0 0 0 0 0 0 0 0 0 0 0 0 0 0 0 0 0 0 ...  0\n",
      "----Batch 15: Shape (129, 4)----\n",
      "        vid   id                                                  x  y\n",
      "0  10485772  191  0 0 0 0 0 0 0 0 0 0 0 0 0 0 0 0 0 0 0 0 0 0 0 ...  5\n",
      "----Batch 16: Shape (150, 4)----\n",
      "       vid    id                                                  x  y\n",
      "0  7340038  1578  0 0 0 0 0 0 0 1 0 0 0 0 0 0 0 0 0 0 0 0 0 0 0 ...  5\n",
      "----Batch 17: Shape (147, 4)----\n",
      "       vid    id                                                  x  y\n",
      "0  6291462  1453  0 0 0 0 0 0 0 0 0 0 0 0 0 0 0 0 0 0 0 0 0 0 0 ...  3\n",
      "----Batch 18: Shape (127, 4)----\n",
      "       vid    id                                                  x  y\n",
      "0  2097158  2414  0 0 0 0 0 0 0 0 0 0 0 0 0 0 0 0 0 0 0 1 0 0 0 ...  3\n",
      "----Batch 19: Shape (113, 4)----\n",
      "       vid    id                                                  x  y\n",
      "0  1048581  1726  0 0 0 0 0 0 0 0 0 0 0 0 0 0 0 0 0 0 0 1 0 0 0 ...  2\n",
      "CPU times: user 151 ms, sys: 17.2 ms, total: 168 ms\n",
      "Wall time: 288 ms\n"
     ]
    }
   ],
   "source": [
    "%%time\n",
    "for i, batch in enumerate(vertex_loader):\n",
    "    print(\"----Batch {}: Shape {}----\".format(i, batch.shape))\n",
    "    print(batch.head(1))"
   ]
  },
  {
   "cell_type": "markdown",
   "id": "4917e4af-392d-4c90-bc20-5d40324a30c4",
   "metadata": {},
   "source": [
    "#### For heterogeneous graphs"
   ]
  },
  {
   "cell_type": "markdown",
   "id": "7e56def3",
   "metadata": {},
   "source": [
    "Since `Cora` is a homogeneous graph, we will connect to a different graph to demostrate the use case of heterogeneous graphs."
   ]
  },
  {
   "cell_type": "code",
   "execution_count": 11,
   "id": "05616b55",
   "metadata": {},
   "outputs": [],
   "source": [
    "conn = TigerGraphConnection(\n",
    "    host=\"http://127.0.0.1\", # Change the address to your database server's\n",
    "    graphname=\"hetero\",\n",
    "    username=\"tigergraph\",\n",
    "    password=\"tigergraph\",\n",
    "    gsqlSecret=\"\" # secret instead of user/pass is required for TG cloud DBs created after 7/5/2022  \n",
    ")\n",
    "\n",
    "# Uncomment below to get and set token if token authentication is enabled. \n",
    "#conn.getToken(<secret>) # <secret> is your user secret. See https://docs.tigergraph.com/tigergraph-server/current/user-access/managing-credentials#_secrets for details."
   ]
  },
  {
   "cell_type": "code",
   "execution_count": 12,
   "id": "00858597",
   "metadata": {},
   "outputs": [
    {
     "name": "stdout",
     "output_type": "stream",
     "text": [
      "---- Graph hetero\n",
      "Vertex Types:\n",
      "- VERTEX v0(PRIMARY_ID id INT, x LIST<DOUBLE>, y INT, train_mask BOOL, val_mask BOOL, test_mask BOOL) WITH STATS=\"OUTDEGREE_BY_EDGETYPE\", PRIMARY_ID_AS_ATTRIBUTE=\"true\"\n",
      "- VERTEX v1(PRIMARY_ID id INT, x LIST<DOUBLE>, train_mask BOOL, val_mask BOOL, test_mask BOOL) WITH STATS=\"OUTDEGREE_BY_EDGETYPE\", PRIMARY_ID_AS_ATTRIBUTE=\"true\"\n",
      "- VERTEX v2(PRIMARY_ID id INT, x LIST<DOUBLE>, train_mask BOOL, val_mask BOOL, test_mask BOOL) WITH STATS=\"OUTDEGREE_BY_EDGETYPE\", PRIMARY_ID_AS_ATTRIBUTE=\"true\"\n",
      "Edge Types:\n",
      "- DIRECTED EDGE v0v0(FROM v0, TO v0, is_train BOOL, is_val BOOL)\n",
      "- DIRECTED EDGE v1v1(FROM v1, TO v1, is_train BOOL, is_val BOOL)\n",
      "- DIRECTED EDGE v1v2(FROM v1, TO v2, is_train BOOL, is_val BOOL)\n",
      "- DIRECTED EDGE v2v0(FROM v2, TO v0, is_train BOOL, is_val BOOL)\n",
      "- DIRECTED EDGE v2v1(FROM v2, TO v1, is_train BOOL, is_val BOOL)\n",
      "- DIRECTED EDGE v2v2(FROM v2, TO v2, is_train BOOL, is_val BOOL)\n",
      "\n",
      "Graphs:\n",
      "- Graph hetero(v0:v, v1:v, v2:v, v0v0:e, v1v1:e, v1v2:e, v2v0:e, v2v1:e, v2v2:e)\n",
      "Jobs:\n",
      "- CREATE LOADING JOB load_hetero_data FOR GRAPH hetero {\n",
      "DEFINE FILENAME v2v0_csv = \"./v2v0.csv\";\n",
      "DEFINE FILENAME v2v1_csv = \"./v2v1.csv\";\n",
      "DEFINE FILENAME v2v2_csv = \"./v2v2.csv\";\n",
      "DEFINE FILENAME v1_csv = \"./v1.csv\";\n",
      "DEFINE FILENAME v0v0_csv = \"./v0v0.csv\";\n",
      "DEFINE FILENAME v2_csv = \"./v2.csv\";\n",
      "DEFINE FILENAME v1v1_csv = \"./v1v1.csv\";\n",
      "DEFINE FILENAME v1v2_csv = \"./v1v2.csv\";\n",
      "DEFINE FILENAME v0_csv = \"./v0.csv\";\n",
      "LOAD v0_csv TO VERTEX v0 VALUES($\"id\", SPLIT($\"x\", \" \"), $\"y\", _, _, _) USING SEPARATOR=\",\", HEADER=\"true\", EOL=\"\\n\";\n",
      "LOAD v1_csv TO VERTEX v1 VALUES($\"id\", SPLIT($\"x\", \" \"), _, _, _) USING SEPARATOR=\",\", HEADER=\"true\", EOL=\"\\n\";\n",
      "LOAD v2_csv TO VERTEX v2 VALUES($\"id\", SPLIT($\"x\", \" \"), _, _, _) USING SEPARATOR=\",\", HEADER=\"true\", EOL=\"\\n\";\n",
      "LOAD v0v0_csv TO EDGE v0v0 VALUES($\"source\", $\"target\", _, _) USING SEPARATOR=\",\", HEADER=\"true\", EOL=\"\\n\";\n",
      "LOAD v1v1_csv TO EDGE v1v1 VALUES($\"source\", $\"target\", _, _) USING SEPARATOR=\",\", HEADER=\"true\", EOL=\"\\n\";\n",
      "LOAD v1v2_csv TO EDGE v1v2 VALUES($\"source\", $\"target\", _, _) USING SEPARATOR=\",\", HEADER=\"true\", EOL=\"\\n\";\n",
      "LOAD v2v0_csv TO EDGE v2v0 VALUES($\"source\", $\"target\", _, _) USING SEPARATOR=\",\", HEADER=\"true\", EOL=\"\\n\";\n",
      "LOAD v2v1_csv TO EDGE v2v1 VALUES($\"source\", $\"target\", _, _) USING SEPARATOR=\",\", HEADER=\"true\", EOL=\"\\n\";\n",
      "LOAD v2v2_csv TO EDGE v2v2 VALUES($\"source\", $\"target\", _, _) USING SEPARATOR=\",\", HEADER=\"true\", EOL=\"\\n\";\n",
      "}\n",
      "\n",
      "- CREATE SCHEMA_CHANGE JOB hetero_job FOR GRAPH hetero {\n",
      "ADD VERTEX v0(PRIMARY_ID id INT, x LIST<DOUBLE>, y INT, train_mask BOOL, val_mask BOOL, test_mask BOOL) WITH STATS=\"OUTDEGREE_BY_EDGETYPE\", PRIMARY_ID_AS_ATTRIBUTE=\"true\";\n",
      "ADD VERTEX v1(PRIMARY_ID id INT, x LIST<DOUBLE>, train_mask BOOL, val_mask BOOL, test_mask BOOL) WITH STATS=\"OUTDEGREE_BY_EDGETYPE\", PRIMARY_ID_AS_ATTRIBUTE=\"true\";\n",
      "ADD VERTEX v2(PRIMARY_ID id INT, x LIST<DOUBLE>, train_mask BOOL, val_mask BOOL, test_mask BOOL) WITH STATS=\"OUTDEGREE_BY_EDGETYPE\", PRIMARY_ID_AS_ATTRIBUTE=\"true\";\n",
      "ADD DIRECTED EDGE v0v0(FROM v0, TO v0, is_train BOOL, is_val BOOL);\n",
      "ADD DIRECTED EDGE v1v1(FROM v1, TO v1, is_train BOOL, is_val BOOL);\n",
      "ADD DIRECTED EDGE v1v2(FROM v1, TO v2, is_train BOOL, is_val BOOL);\n",
      "ADD DIRECTED EDGE v2v0(FROM v2, TO v0, is_train BOOL, is_val BOOL);\n",
      "ADD DIRECTED EDGE v2v1(FROM v2, TO v1, is_train BOOL, is_val BOOL);\n",
      "ADD DIRECTED EDGE v2v2(FROM v2, TO v2, is_train BOOL, is_val BOOL);\n",
      "}\n",
      "\n",
      "Queries:\n",
      "- edge_loader_is_train_is_val(int num_batches, bool shuffle, string filter_by, set<string> e_types, string kafka_address, string kafka_topic, string security_protocol, string sasl_mechanism, string sasl_username, string sasl_password, string ssl_ca_location) (installed v2)\n",
      "- edge_nei_loader_x_y_train_mask_val_mask_test_mask_is_train(int num_batches, int num_neighbors, int num_hops, bool shuffle, string filter_by, set<string> v_types, set<string> e_types, set<string> seed_types, string kafka_address, string kafka_topic, string security_protocol, string sasl_mechanism, string sasl_username, string sasl_password, string ssl_ca_location) (installed v2)\n",
      "- graph_loader_x_y_train_mask_val_mask_test_mask_is_train_is_val(int num_batches, bool shuffle, string filter_by, set<string> v_types, set<string> e_types, string kafka_address, string kafka_topic, string security_protocol, string sasl_mechanism, string sasl_username, string sasl_password, string ssl_ca_location) (installed v2)\n",
      "- neighbor_loader_x_y_train_mask_val_mask_test_mask(set<vertex> input_vertices, int num_batches, int num_neighbors, int num_hops, bool shuffle, string filter_by, set<string> v_types, set<string> e_types, set<string> seed_types, string kafka_address, string kafka_topic, string security_protocol, string sasl_mechanism, string sasl_username, string sasl_password, string ssl_ca_location) (installed v2)\n",
      "\n",
      "\n",
      "\n",
      "\n"
     ]
    }
   ],
   "source": [
    "print(conn.gsql(\"ls\"))"
   ]
  },
  {
   "cell_type": "code",
   "execution_count": 13,
   "id": "a76b9591",
   "metadata": {},
   "outputs": [
    {
     "name": "stdout",
     "output_type": "stream",
     "text": [
      "Installing and optimizing queries. It might take a minute if this is the first time you use this loader.\n",
      "Query installation finished.\n",
      "CPU times: user 29.9 ms, sys: 4.49 ms, total: 34.4 ms\n",
      "Wall time: 39.5 s\n"
     ]
    }
   ],
   "source": [
    "%%time\n",
    "loader = conn.gds.vertexLoader(\n",
    "    attributes={\"v0\": [\"x\", \"y\"],\n",
    "                \"v1\": [\"x\"]},\n",
    "    batch_size=20,\n",
    "    shuffle=True,\n",
    "    filter_by=None,\n",
    "    loader_id=None,\n",
    "    buffer_size=4,\n",
    ")"
   ]
  },
  {
   "cell_type": "code",
   "execution_count": 14,
   "id": "25a75547",
   "metadata": {},
   "outputs": [
    {
     "name": "stdout",
     "output_type": "stream",
     "text": [
      "----Batch 0----\n",
      "Vertex type: v0\n",
      "         vid                                                  x  y\n",
      "0  163577857  0.386429 0.401847 -0.0926295 -0.0833778 0.6873...  2\n",
      "Vertex type: v1\n",
      "         vid                                                  x\n",
      "0  178257921  -1.02871 -0.135028 -0.138423 -0.89996 1.68272 ...\n",
      "----Batch 1----\n",
      "Vertex type: v0\n",
      "         vid                                                  x  y\n",
      "0  142606336  -0.417304 -0.464672 -0.229524 0.336801 0.61027...  9\n",
      "Vertex type: v1\n",
      "         vid                                                  x\n",
      "0  170917888  -0.0675672 -0.514478 1.91501 0.96472 -1.40837 ...\n",
      "----Batch 2----\n",
      "Vertex type: v0\n",
      "         vid                                                  x  y\n",
      "0  139460609  -0.846644 -0.686432 -2.26245 1.24922 0.576238 ...  8\n",
      "Vertex type: v1\n",
      "         vid                                                  x\n",
      "0  197132289  -0.900331 -0.582497 -0.157183 -0.692183 0.7191...\n",
      "----Batch 3----\n",
      "Vertex type: v0\n",
      "         vid                                                  x  y\n",
      "0  134217730  -0.644559 0.0658884 -0.590563 0.278513 0.97017...  9\n",
      "Vertex type: v1\n",
      "         vid                                                  x\n",
      "0  181403649  -0.161315 -2.00703 -1.00672 0.566511 -0.203919...\n",
      "----Batch 4----\n",
      "Vertex type: v0\n",
      "         vid                                                  x  y\n",
      "0  134217733  0.480141 -0.169968 1.74605 0.265025 0.710991 -...  9\n",
      "Vertex type: v1\n",
      "         vid                                                  x\n",
      "0  176160768  -0.891511 -0.86198 -0.580623 -0.852433 0.71162...\n",
      "----Batch 5----\n",
      "Vertex type: v1\n",
      "         vid                                                  x\n",
      "0  173015042  0.213103 -0.29764 -0.0113945 -0.0402101 1.2897...\n",
      "Vertex type: v0\n",
      "         vid                                                  x  y\n",
      "0  137363459  2.04967 1.03894 0.462085 0.87039 0.484518 -1.0...  2\n",
      "----Batch 6----\n",
      "Vertex type: v0\n",
      "         vid                                                  x  y\n",
      "0  134217728  -0.188107 -0.301286 1.2804 0.675936 0.717697 1...  1\n",
      "Vertex type: v1\n",
      "         vid                                                  x\n",
      "0  167772162  -0.41025 0.931752 0.517965 2.93246 -1.0365 1.5...\n",
      "----Batch 7----\n",
      "Vertex type: v1\n",
      "         vid                                                  x\n",
      "0  177209344  0.986525 -0.794036 0.266078 -0.14338 -0.96245 ...\n",
      "Vertex type: v0\n",
      "         vid                                                  x  y\n",
      "0  149946369  0.729365 -0.614349 0.72067 -1.79353 -0.134905 ...  1\n",
      "----Batch 8----\n",
      "Vertex type: v0\n",
      "         vid                                                  x  y\n",
      "0  136314881  1.57035 1.27941 0.0208358 0.884161 -1.33232 0....  4\n",
      "Vertex type: v1\n",
      "         vid                                                  x\n",
      "0  141557761  -1.217 -1.54553 1.73903 1.51622 -0.148302 1.51...\n",
      "----Batch 9----\n",
      "Vertex type: v0\n",
      "         vid                                                  x  y\n",
      "0  162529282  0.0655204 -0.0110251 1.06901 0.11467 -0.613123...  9\n",
      "Vertex type: v1\n",
      "         vid                                                  x\n",
      "0  168820736  -0.066027 1.82314 -0.143056 -0.406202 -0.42649...\n",
      "CPU times: user 35 ms, sys: 3.1 ms, total: 38.1 ms\n",
      "Wall time: 59.6 ms\n"
     ]
    }
   ],
   "source": [
    "%%time\n",
    "for i, batch in enumerate(loader):\n",
    "    print(\"----Batch {}----\".format(i))\n",
    "    for j in batch:\n",
    "        print(\"Vertex type:\", j)\n",
    "        print(batch[j].head(1))"
   ]
  },
  {
   "cell_type": "markdown",
   "id": "aef437fe",
   "metadata": {
    "tags": []
   },
   "source": [
    "### Streaming through Kafka\n",
    "\n",
    "**Note**: Kafka streaming function is only available for the Enterprise Edition. You need to activate the Enterprise Edition to use it. "
   ]
  },
  {
   "cell_type": "code",
   "execution_count": null,
   "id": "9d31863f",
   "metadata": {},
   "outputs": [],
   "source": [
    "conn = TigerGraphConnection(\n",
    "    host=\"http://127.0.0.1\", # Change the address to your database server's\n",
    "    graphname=\"Cora\",\n",
    "    username=\"tigergraph\",\n",
    "    password=\"tigergraph\",\n",
    "    gsqlSecret=\"\" # secret instead of user/pass is required for TG cloud DBs created after 7/5/2022  \n",
    ")\n",
    "\n",
    "# Uncomment below to get and set token if token authentication is enabled. \n",
    "#conn.getToken(<secret>) # <secret> is your user secret. See https://docs.tigergraph.com/tigergraph-server/current/user-access/managing-credentials#_secrets for details."
   ]
  },
  {
   "cell_type": "markdown",
   "id": "86c6ce45-0136-47c5-900a-1e78bc7cb792",
   "metadata": {},
   "source": [
    "#### Configure Kafka\n",
    "Set up Kafka here. Once configured, the settings will be shared with all newly created data loaders and no need to set up Kafka for each loader. Please see official [doc](https://docs.tigergraph.com/pytigergraph/current/gds/gds#_configurekafka) for detailed settings."
   ]
  },
  {
   "cell_type": "code",
   "execution_count": null,
   "id": "3a0dbe70-29f9-4205-9f53-e8d4e8883eb7",
   "metadata": {},
   "outputs": [],
   "source": [
    "conn.gds.configureKafka(\n",
    "    kafka_address=\"127.0.0.1:9092\",\n",
    "    kafka_security_protocol=\"SASL_PLAINTEXT\",\n",
    "    kafka_sasl_mechanism=\"PLAIN\",\n",
    "    kafka_sasl_plain_username=\"your username\",\n",
    "    kafka_sasl_plain_password=\"your password\"\n",
    ")"
   ]
  },
  {
   "cell_type": "markdown",
   "id": "0361abb0-7fff-4de6-8a3a-b8af2a0e34a0",
   "metadata": {},
   "source": [
    "#### Get batches of vertices"
   ]
  },
  {
   "cell_type": "code",
   "execution_count": 10,
   "id": "cba77c66",
   "metadata": {},
   "outputs": [
    {
     "name": "stderr",
     "output_type": "stream",
     "text": [
      "WARNING:kafka.coordinator.consumer:group_id is None: disabling auto-commit.\n"
     ]
    },
    {
     "name": "stdout",
     "output_type": "stream",
     "text": [
      "Installing and optimizing queries. It might take a minute if this is the first time you use this loader.\n",
      "Query installation finished.\n",
      "CPU times: user 37.1 ms, sys: 11.9 ms, total: 48.9 ms\n",
      "Wall time: 25.8 s\n"
     ]
    }
   ],
   "source": [
    "%%time\n",
    "vertex_loader = conn.gds.vertexLoader(\n",
    "    num_batches=20, \n",
    "    attributes=[\"id\", \"x\", \"y\"],\n",
    "    shuffle=True,\n",
    "    filter_by=None,\n",
    ")"
   ]
  },
  {
   "cell_type": "code",
   "execution_count": 11,
   "id": "166a2478",
   "metadata": {},
   "outputs": [
    {
     "name": "stdout",
     "output_type": "stream",
     "text": [
      "----Batch 0: Shape (157, 4)----\n",
      "   vid    id                                                  x  y\n",
      "0    9  1341  0 0 0 0 0 0 0 0 0 0 0 0 0 0 0 0 0 0 0 0 0 0 0 ...  0\n",
      "----Batch 1: Shape (121, 4)----\n",
      "       vid    id                                                  x  y\n",
      "0  7340080  2332  0 0 0 0 0 0 0 0 0 0 0 0 0 0 1 0 0 0 0 0 0 0 0 ...  0\n",
      "----Batch 2: Shape (131, 4)----\n",
      "        vid   id                                                  x  y\n",
      "0  11534338  562  0 0 0 0 0 0 0 0 0 0 0 0 0 0 0 0 0 0 0 0 0 0 0 ...  2\n",
      "----Batch 3: Shape (143, 4)----\n",
      "        vid  id                                                  x  y\n",
      "0  19922966  66  0 0 0 0 0 0 0 0 0 0 0 0 0 0 0 1 0 0 0 0 0 0 0 ...  4\n",
      "----Batch 4: Shape (149, 4)----\n",
      "       vid    id                                                  x  y\n",
      "0  1048585  1443  0 0 0 0 0 0 0 0 0 0 0 0 0 0 0 0 0 0 0 0 0 0 0 ...  4\n",
      "----Batch 5: Shape (125, 4)----\n",
      "       vid    id                                                  x  y\n",
      "0  8388625  2477  0 0 0 0 0 0 0 0 0 0 0 0 0 0 0 0 0 0 0 1 0 0 0 ...  3\n",
      "----Batch 6: Shape (155, 4)----\n",
      "       vid   id                                                  x  y\n",
      "0  2097173  367  0 0 0 0 0 0 0 0 0 0 0 0 0 0 0 0 0 0 0 0 0 0 0 ...  2\n",
      "----Batch 7: Shape (134, 4)----\n",
      "       vid    id                                                  x  y\n",
      "0  2097180  2385  0 0 0 0 0 0 0 0 0 0 0 0 0 0 0 0 0 0 0 1 0 0 0 ...  4\n",
      "----Batch 8: Shape (133, 4)----\n",
      "        vid    id                                                  x  y\n",
      "0  12582916  1768  0 0 0 0 0 0 0 0 0 0 1 0 0 0 0 0 0 0 0 1 0 0 0 ...  1\n",
      "----Batch 9: Shape (128, 4)----\n",
      "       vid   id                                                  x  y\n",
      "0  5242880  641  0 0 0 0 0 0 0 0 0 0 0 0 0 0 0 0 0 0 0 0 0 0 0 ...  3\n",
      "----Batch 10: Shape (131, 4)----\n",
      "        vid    id                                                  x  y\n",
      "0  14680100  1598  0 0 0 0 0 0 0 0 0 0 0 0 0 0 0 0 0 0 0 1 0 0 1 ...  3\n",
      "----Batch 11: Shape (131, 4)----\n",
      "       vid   id                                                  x  y\n",
      "0  3145733  658  0 0 0 0 0 0 0 0 0 0 0 0 0 0 0 0 0 0 0 0 0 0 0 ...  3\n",
      "----Batch 12: Shape (122, 4)----\n",
      "       vid   id                                                  x  y\n",
      "0  4194312  177  0 0 0 0 0 0 0 0 0 0 0 0 0 0 0 0 0 0 0 0 0 0 0 ...  4\n",
      "----Batch 13: Shape (152, 4)----\n",
      "        vid    id                                                  x  y\n",
      "0  12582926  2120  0 0 0 0 0 0 0 0 0 0 0 0 0 0 0 0 0 0 0 0 0 0 0 ...  4\n",
      "----Batch 14: Shape (142, 4)----\n",
      "       vid    id                                                  x  y\n",
      "0  4194304  1203  0 0 0 0 1 0 0 0 0 0 0 0 0 0 0 0 0 0 0 0 0 0 0 ...  0\n",
      "----Batch 15: Shape (132, 4)----\n",
      "        vid   id                                                  x  y\n",
      "0  15728646  409  0 0 0 1 0 0 0 0 0 0 0 0 0 0 0 0 0 0 0 0 0 0 0 ...  1\n",
      "----Batch 16: Shape (132, 4)----\n",
      "        vid    id                                                  x  y\n",
      "0  13631511  2056  0 0 0 0 0 0 0 0 0 0 0 0 0 0 0 0 0 0 0 0 0 0 0 ...  0\n",
      "----Batch 17: Shape (113, 4)----\n",
      "        vid    id                                                  x  y\n",
      "0  28311557  1378  0 0 0 0 0 0 0 0 0 0 0 0 0 0 0 0 0 0 0 0 0 0 0 ...  2\n",
      "----Batch 18: Shape (139, 4)----\n",
      "       vid    id                                                  x  y\n",
      "0  9437186  2348  0 0 0 0 0 0 0 0 0 0 1 0 0 0 0 0 0 0 0 0 0 0 0 ...  3\n",
      "----Batch 19: Shape (138, 4)----\n",
      "       vid   id                                                  x  y\n",
      "0  2097176  718  0 0 0 0 0 0 0 0 0 0 0 0 0 0 0 0 0 0 0 0 0 0 0 ...  0\n",
      "CPU times: user 161 ms, sys: 14.4 ms, total: 175 ms\n",
      "Wall time: 562 ms\n"
     ]
    }
   ],
   "source": [
    "%%time\n",
    "for i, batch in enumerate(vertex_loader):\n",
    "    print(\"----Batch {}: Shape {}----\".format(i, batch.shape))\n",
    "    print(batch.head(1))"
   ]
  },
  {
   "cell_type": "code",
   "execution_count": null,
   "id": "18e00835",
   "metadata": {},
   "outputs": [],
   "source": []
  }
 ],
 "metadata": {
  "environment": {
   "name": "pytorch-gpu.1-9.m81",
   "type": "gcloud",
   "uri": "gcr.io/deeplearning-platform-release/pytorch-gpu.1-9:m81"
  },
  "interpreter": {
   "hash": "96daeecb52bbbb8e3aef04d2f9c6a1e01f271d07cea30059f3c558ef00b717d2"
  },
  "kernelspec": {
   "display_name": "PyTorch",
   "language": "python",
   "name": "python3"
  },
  "language_info": {
   "codemirror_mode": {
    "name": "ipython",
    "version": 3
   },
   "file_extension": ".py",
   "mimetype": "text/x-python",
   "name": "python",
   "nbconvert_exporter": "python",
   "pygments_lexer": "ipython3",
   "version": "3.9.13"
  },
  "toc-autonumbering": false,
  "toc-showtags": false
 },
 "nbformat": 4,
 "nbformat_minor": 5
}
