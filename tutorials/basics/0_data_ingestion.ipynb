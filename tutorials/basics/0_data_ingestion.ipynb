{
 "cells": [
  {
   "cell_type": "markdown",
   "id": "300b2d48-024f-4d54-8688-8ac2cf7c10e0",
   "metadata": {},
   "source": [
    "# Data Ingestion"
   ]
  },
  {
   "cell_type": "markdown",
   "id": "122d8f47-a77e-4c70-8bfd-9e1692620ebf",
   "metadata": {},
   "source": [
    "This notebook demostrates how to load three example datasets into your TigerGraph database. The data files are included in the github [repo](https://github.com/TigerGraph-DevLabs/mlworkbench-docs/tree/main/tutorials/basics/data). To run this notebook, you will need to clone the repo or download those files.\n",
    "\n",
    "The **Cora** dataset contains 2708 machine learning papers and 10556 citation links between the papers.  Each publication in the dataset is described by a 0/1-valued word vector indicating the absence/presence of the corresponding word from a dictionary. The dictionary consists of 1433 unique words. Each paper is classified into one of seven classes based on the topic. \n",
    "\n",
    "The **IMDB** dataset contains 3 types of vertices: 4278 movies, 5257 actors, and 2081 directors; and 4 types of edges: 12828 actor to movie edges, 12828 movie to actor edges, 4278 director to movie edges, and 4278 movie to director edges. Each vertex is described by a 0/1-valued word vector indicating the absence/presence of the corresponding keywords. For movies, the keywords are extracted from their plots; and for actors and directors, the keywords are extracted from the plots of movies they participated. Each movie is classified into one of three classes, action, comedy, and drama according to their genre. The goal is to predict the class of each movie in the graph.\n",
    "\n",
    "The **hetero** dataset contains a synthetic heterogenous graph, which is small and for illustration purposes."
   ]
  },
  {
   "cell_type": "markdown",
   "id": "711a4850",
   "metadata": {},
   "source": [
    "**NOTE**: The procedures of data ingestion are slightly different between TigerGraph on-prem databases and tgcloud databases created after 7/5/2022. Please run the corresponding sections for your database but do NOT run both."
   ]
  },
  {
   "cell_type": "markdown",
   "id": "706cf86a",
   "metadata": {},
   "source": [
    "### TigerGraph On-Prem (and TGCloud databases created before 7/5/2022)"
   ]
  },
  {
   "cell_type": "markdown",
   "id": "df1ecc9a-f9b7-4477-9a17-d92e9651efed",
   "metadata": {},
   "source": [
    "Your `TigerGraphConnection` object will need to be modified in order to connect to your own database instance. Check the documentation [here](https://docs.tigergraph.com/pytigergraph/current/getting-started/connection) for more details."
   ]
  },
  {
   "cell_type": "code",
   "execution_count": null,
   "id": "ac8dc0be",
   "metadata": {},
   "outputs": [],
   "source": [
    "from pyTigerGraph import TigerGraphConnection\n",
    "\n",
    "conn = TigerGraphConnection(\n",
    "    host=\"http://127.0.0.1\", # Change the address to your database's\n",
    "    username=\"tigergraph\", # Change to your username\n",
    "    password=\"tigergraph\" # Change to your password\n",
    ")"
   ]
  },
  {
   "cell_type": "code",
   "execution_count": null,
   "id": "078df6cd",
   "metadata": {},
   "outputs": [],
   "source": [
    "# Check metadata in the database to make sure the connection works\n",
    "print(conn.gsql(\"LS\"))"
   ]
  },
  {
   "cell_type": "markdown",
   "id": "e4ac461b",
   "metadata": {},
   "source": [
    "#### Cora Dataset"
   ]
  },
  {
   "cell_type": "code",
   "execution_count": null,
   "id": "ee4aba67",
   "metadata": {},
   "outputs": [],
   "source": [
    "print(conn.gsql(\"CREATE GRAPH Cora()\"))\n",
    "\n",
    "conn.graphname = \"Cora\"\n",
    "# Create and run schema change job\n",
    "print(conn.gsql(open(\"./data/cora/gsql/schema.gsql\", \"r\").read()))\n",
    "\n",
    "# Create loading job\n",
    "print(conn.gsql(open(\"./data/cora/gsql/load.gsql\", \"r\").read()))"
   ]
  },
  {
   "cell_type": "code",
   "execution_count": null,
   "id": "e869935a",
   "metadata": {},
   "outputs": [],
   "source": [
    "# COMMENT OUT THE LINE BELOW if you are NOT using a graph that requires token authentication or you will get an error\n",
    "conn.getToken(conn.createSecret())"
   ]
  },
  {
   "cell_type": "code",
   "execution_count": null,
   "id": "6796ed8c",
   "metadata": {},
   "outputs": [],
   "source": [
    "# Load data\n",
    "conn.runLoadingJobWithFile(\"./data/cora/nodes.csv\", \"node_csv\", \"load_cora_data\")\n",
    "conn.runLoadingJobWithFile(\"./data/cora/edges.csv\", \"edge_csv\", \"load_cora_data\")"
   ]
  },
  {
   "cell_type": "markdown",
   "id": "05e3e854",
   "metadata": {},
   "source": [
    "#### IMDB Dataset"
   ]
  },
  {
   "cell_type": "code",
   "execution_count": null,
   "id": "2da48291",
   "metadata": {},
   "outputs": [],
   "source": [
    "print(conn.gsql(\"CREATE GRAPH imdb()\"))\n",
    "\n",
    "conn.graphname = \"imdb\"\n",
    "# Create graph schema\n",
    "print(conn.gsql(open(\"./data/imdb/gsql/schema.gsql\", \"r\").read()))\n",
    "# Create loading job\n",
    "print(conn.gsql(open(\"./data/imdb/gsql/load.gsql\", \"r\").read()))"
   ]
  },
  {
   "cell_type": "code",
   "execution_count": null,
   "id": "6efa51f2",
   "metadata": {},
   "outputs": [],
   "source": [
    "# COMMENT OUT THE LINE BELOW if you are NOT using a graph that requires token authentication\n",
    "conn.getToken(conn.createSecret())"
   ]
  },
  {
   "cell_type": "code",
   "execution_count": null,
   "id": "3a3a7a64",
   "metadata": {},
   "outputs": [],
   "source": [
    "# Load data\n",
    "conn.runLoadingJobWithFile(\"./data/imdb/director.csv\", \"director_csv\", \"load_imdb_data\")\n",
    "conn.runLoadingJobWithFile(\"./data/imdb/actor.csv\", \"actor_csv\", \"load_imdb_data\")\n",
    "conn.runLoadingJobWithFile(\"./data/imdb/movie.csv\", \"movie_csv\", \"load_imdb_data\")\n",
    "conn.runLoadingJobWithFile(\"./data/imdb/actor_movie.csv\", \"actor_movie_csv\", \"load_imdb_data\")\n",
    "conn.runLoadingJobWithFile(\"./data/imdb/director_movie.csv\", \"director_movie_csv\", \"load_imdb_data\")\n",
    "conn.runLoadingJobWithFile(\"./data/imdb/movie_actor.csv\", \"movie_actor_csv\", \"load_imdb_data\")\n",
    "conn.runLoadingJobWithFile(\"./data/imdb/movie_director.csv\", \"movie_director_csv\", \"load_imdb_data\")"
   ]
  },
  {
   "cell_type": "markdown",
   "id": "1f81117f",
   "metadata": {},
   "source": [
    "#### Heterogenous Graph Example"
   ]
  },
  {
   "cell_type": "code",
   "execution_count": null,
   "id": "464292f5",
   "metadata": {},
   "outputs": [],
   "source": [
    "print(conn.gsql(\"CREATE GRAPH hetero()\"))\n",
    "\n",
    "conn.graphname=\"hetero\"\n",
    "# Create graph schema\n",
    "print(conn.gsql(open(\"./data/heterogenous/gsql/schema.gsql\", \"r\").read()))\n",
    "# Create loading job\n",
    "print(conn.gsql(open(\"./data/heterogenous/gsql/load.gsql\", \"r\").read()))"
   ]
  },
  {
   "cell_type": "code",
   "execution_count": null,
   "id": "fb80d192",
   "metadata": {},
   "outputs": [],
   "source": [
    "# COMMENT OUT THE LINE BELOW if you are NOT using a graph that requires token authentication\n",
    "conn.getToken(conn.createSecret())"
   ]
  },
  {
   "cell_type": "code",
   "execution_count": null,
   "id": "5bcabb40",
   "metadata": {},
   "outputs": [],
   "source": [
    "# Load data\n",
    "conn.runLoadingJobWithFile(\"./data/heterogenous/v0.csv\", \"v0_csv\", \"load_hetero_data\")\n",
    "conn.runLoadingJobWithFile(\"./data/heterogenous/v1.csv\", \"v1_csv\", \"load_hetero_data\")\n",
    "conn.runLoadingJobWithFile(\"./data/heterogenous/v2.csv\", \"v2_csv\", \"load_hetero_data\")\n",
    "conn.runLoadingJobWithFile(\"./data/heterogenous/v0v0.csv\", \"v0v0_csv\", \"load_hetero_data\")\n",
    "conn.runLoadingJobWithFile(\"./data/heterogenous/v1v1.csv\", \"v1v1_csv\", \"load_hetero_data\")\n",
    "conn.runLoadingJobWithFile(\"./data/heterogenous/v1v2.csv\", \"v1v2_csv\", \"load_hetero_data\")\n",
    "conn.runLoadingJobWithFile(\"./data/heterogenous/v2v0.csv\", \"v2v0_csv\", \"load_hetero_data\")\n",
    "conn.runLoadingJobWithFile(\"./data/heterogenous/v2v1.csv\", \"v2v1_csv\", \"load_hetero_data\")\n",
    "conn.runLoadingJobWithFile(\"./data/heterogenous/v2v2.csv\", \"v2v2_csv\", \"load_hetero_data\")"
   ]
  },
  {
   "cell_type": "markdown",
   "id": "f6c8f106",
   "metadata": {},
   "source": [
    "### TGCloud Databases Created after 7/5/2022"
   ]
  },
  {
   "cell_type": "markdown",
   "id": "0ab3cd70",
   "metadata": {},
   "source": [
    "#### Cora Dataset"
   ]
  },
  {
   "cell_type": "markdown",
   "id": "64cb4f92",
   "metadata": {},
   "source": [
    "You **must** have created the Cora graph and created a secret for the graph"
   ]
  },
  {
   "cell_type": "code",
   "execution_count": null,
   "id": "07f7c31b",
   "metadata": {},
   "outputs": [],
   "source": [
    "from pyTigerGraph import TigerGraphConnection\n",
    "\n",
    "gsqlSecret=\"YOUR_GSQL_SECRET_HERE\" # Change to your secret for the graph\n",
    "\n",
    "conn = TigerGraphConnection(\n",
    "    host=\"https://mydb.i.tgcloud.io\", # Change the address to your database's\n",
    "    graphname=\"Cora\",\n",
    "    gsqlSecret=gsqlSecret,\n",
    ")\n",
    "\n",
    "conn.getToken(gsqlSecret)"
   ]
  },
  {
   "cell_type": "code",
   "execution_count": null,
   "id": "ab4d9e33",
   "metadata": {},
   "outputs": [],
   "source": [
    "# Check metadata in the database to make sure the connection works\n",
    "print(conn.gsql(\"LS\"))"
   ]
  },
  {
   "cell_type": "code",
   "execution_count": null,
   "id": "c336a99d",
   "metadata": {},
   "outputs": [],
   "source": [
    "# Create and run schema change job\n",
    "print(conn.gsql(open(\"./data/cora/gsql/schema.gsql\", \"r\").read()))\n",
    "\n",
    "# Create loading job\n",
    "print(conn.gsql(open(\"./data/cora/gsql/load.gsql\", \"r\").read()))"
   ]
  },
  {
   "cell_type": "code",
   "execution_count": null,
   "id": "3ee2e597",
   "metadata": {},
   "outputs": [],
   "source": [
    "# Load data\n",
    "conn.runLoadingJobWithFile(\"./data/cora/nodes.csv\", \"node_csv\", \"load_cora_data\")\n",
    "conn.runLoadingJobWithFile(\"./data/cora/edges.csv\", \"edge_csv\", \"load_cora_data\")"
   ]
  },
  {
   "cell_type": "markdown",
   "id": "237b0f5a",
   "metadata": {},
   "source": [
    "#### IMDB Dataset"
   ]
  },
  {
   "cell_type": "markdown",
   "id": "35de3455",
   "metadata": {},
   "source": [
    "You **must** have created the imdb graph and created a secret for the graph"
   ]
  },
  {
   "cell_type": "code",
   "execution_count": null,
   "id": "fbaa36c5",
   "metadata": {},
   "outputs": [],
   "source": [
    "from pyTigerGraph import TigerGraphConnection\n",
    "\n",
    "gsqlSecret=\"YOUR_GSQL_SECRET_HERE\", # Change to your secret for the graph\n",
    "\n",
    "conn = TigerGraphConnection(\n",
    "    host=\"https://mydb.i.tgcloud.io\", # Change the address to your database's\n",
    "    graphname=\"imdb\",\n",
    "    gsqlSecret=gsqlSecret,\n",
    ")\n",
    "\n",
    "conn.getToken(gsqlSecret)"
   ]
  },
  {
   "cell_type": "code",
   "execution_count": null,
   "id": "fa1dab94",
   "metadata": {},
   "outputs": [],
   "source": [
    "# Create graph schema\n",
    "print(conn.gsql(open(\"./data/imdb/gsql/schema.gsql\", \"r\").read()))\n",
    "# Create loading job\n",
    "print(conn.gsql(open(\"./data/imdb/gsql/load.gsql\", \"r\").read()))"
   ]
  },
  {
   "cell_type": "code",
   "execution_count": null,
   "id": "bef7ed6d",
   "metadata": {},
   "outputs": [],
   "source": [
    "# Load data\n",
    "conn.runLoadingJobWithFile(\"./data/imdb/director.csv\", \"director_csv\", \"load_imdb_data\")\n",
    "conn.runLoadingJobWithFile(\"./data/imdb/actor.csv\", \"actor_csv\", \"load_imdb_data\")\n",
    "conn.runLoadingJobWithFile(\"./data/imdb/movie.csv\", \"movie_csv\", \"load_imdb_data\")\n",
    "conn.runLoadingJobWithFile(\"./data/imdb/actor_movie.csv\", \"actor_movie_csv\", \"load_imdb_data\")\n",
    "conn.runLoadingJobWithFile(\"./data/imdb/director_movie.csv\", \"director_movie_csv\", \"load_imdb_data\")\n",
    "conn.runLoadingJobWithFile(\"./data/imdb/movie_actor.csv\", \"movie_actor_csv\", \"load_imdb_data\")\n",
    "conn.runLoadingJobWithFile(\"./data/imdb/movie_director.csv\", \"movie_director_csv\", \"load_imdb_data\")"
   ]
  },
  {
   "cell_type": "markdown",
   "id": "bf8b7b24",
   "metadata": {},
   "source": [
    "#### Heterogenous Graph Example"
   ]
  },
  {
   "cell_type": "markdown",
   "id": "2055e2d5",
   "metadata": {},
   "source": [
    "You **must** have created the hetero graph and created a secret for the graph"
   ]
  },
  {
   "cell_type": "code",
   "execution_count": null,
   "id": "528ba0cb",
   "metadata": {},
   "outputs": [],
   "source": [
    "from pyTigerGraph import TigerGraphConnection\n",
    "\n",
    "gsqlSecret=\"YOUR_GSQL_SECRET_HERE\", # Change to your secret for the graph\n",
    "\n",
    "conn = TigerGraphConnection(\n",
    "    host=\"https://mydb.i.tgcloud.io\", # Change the address to your database's\n",
    "    graphname=\"hetero\",\n",
    "    gsqlSecret=gsqlSecret,\n",
    ")\n",
    "\n",
    "conn.getToken(gsqlSecret)"
   ]
  },
  {
   "cell_type": "code",
   "execution_count": null,
   "id": "926691b4",
   "metadata": {},
   "outputs": [],
   "source": [
    "# Create graph schema\n",
    "print(conn.gsql(open(\"./data/heterogenous/gsql/schema.gsql\", \"r\").read()))\n",
    "# Create loading job\n",
    "print(conn.gsql(open(\"./data/heterogenous/gsql/load.gsql\", \"r\").read()))"
   ]
  },
  {
   "cell_type": "code",
   "execution_count": null,
   "id": "3a7c75ab",
   "metadata": {},
   "outputs": [],
   "source": [
    "# Load data\n",
    "conn.runLoadingJobWithFile(\"./data/heterogenous/v0.csv\", \"v0_csv\", \"load_hetero_data\")\n",
    "conn.runLoadingJobWithFile(\"./data/heterogenous/v1.csv\", \"v1_csv\", \"load_hetero_data\")\n",
    "conn.runLoadingJobWithFile(\"./data/heterogenous/v2.csv\", \"v2_csv\", \"load_hetero_data\")\n",
    "conn.runLoadingJobWithFile(\"./data/heterogenous/v0v0.csv\", \"v0v0_csv\", \"load_hetero_data\")\n",
    "conn.runLoadingJobWithFile(\"./data/heterogenous/v1v1.csv\", \"v1v1_csv\", \"load_hetero_data\")\n",
    "conn.runLoadingJobWithFile(\"./data/heterogenous/v1v2.csv\", \"v1v2_csv\", \"load_hetero_data\")\n",
    "conn.runLoadingJobWithFile(\"./data/heterogenous/v2v0.csv\", \"v2v0_csv\", \"load_hetero_data\")\n",
    "conn.runLoadingJobWithFile(\"./data/heterogenous/v2v1.csv\", \"v2v1_csv\", \"load_hetero_data\")\n",
    "conn.runLoadingJobWithFile(\"./data/heterogenous/v2v2.csv\", \"v2v2_csv\", \"load_hetero_data\")"
   ]
  }
 ],
 "metadata": {
  "kernelspec": {
   "display_name": "Python 3.9.13 ('tigergraph-torch-cpu')",
   "language": "python",
   "name": "python3"
  },
  "language_info": {
   "codemirror_mode": {
    "name": "ipython",
    "version": 3
   },
   "file_extension": ".py",
   "mimetype": "text/x-python",
   "name": "python",
   "nbconvert_exporter": "python",
   "pygments_lexer": "ipython3",
   "version": "3.9.13"
  },
  "vscode": {
   "interpreter": {
    "hash": "fc5eadac82f5951e7eb836bb06f3c9df8e6d1eda5537a95773af6c6ed24cb2d0"
   }
  }
 },
 "nbformat": 4,
 "nbformat_minor": 5
}
