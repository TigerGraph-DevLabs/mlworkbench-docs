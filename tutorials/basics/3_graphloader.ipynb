{
 "cells": [
  {
   "cell_type": "markdown",
   "id": "31a41fec-c7f0-4752-b57a-efb428327343",
   "metadata": {
    "tags": []
   },
   "source": [
    "## Data Loaders"
   ]
  },
  {
   "cell_type": "markdown",
   "id": "85d51c63-ed05-43d4-9e02-7d13763b5011",
   "metadata": {},
   "source": [
    "This notebook demonstrates the use of **graph loader** in `pyTigerGraph`. The job of a data loader is to pull data from the TigerGraph database. Currently, the following data loaders are provided:\n",
    "* EdgeLoader, which returns batches of edges.\n",
    "* VertexLoader, which returns batches of vertices.\n",
    "* GraphLoader, which returns randomly sampled (probably disconnected) subgraphs in pandas `dataframe`, `PyG` or `DGL` format.\n",
    "* NeighborLoader, which returns subgraphs using neighbor sampling in `dataframe`, `PyG` or `DGL` format.\n",
    "* EdgeNeighborLoader, which returns subgraphs using neighbor sampling from edges in `dataframe`, `PyG` or `DGL` format.\n",
    "\n",
    "Every data loader above can either get all the batches as a HTTP response (default) or stream every batch through Kafka. The former mechanism is good for testing with small graphs and it is fast, but it subjects to a data size limit of 2GB. For large graphs, the HTTP channel will likely fail due to size limit and network connectivity issues. Streaming via Kafka is offered for data robustness and scalability. Also, Kafka excels at multi-consumer use cases, and it is efficient for model search or hyperparameter tuning when there are multiiple consumers of the same data. \n",
    "\n",
    "The data loaders support both homogeneous and heterogenous graphs. By default, they load from all vertex and edge types and treat the graph as a homogeneous graph. But they also allow users to specify what vertex and edge types to load from and what attributes to load from each type. This way users will get heterogeneous graph outputs.\n",
    "\n",
    "**NOTE**: Currently, your database needs to be activated (only once) to enjoy all the functions provided by the ML Workbench. If you are using ML Workbench on Cloud, then the activator is included and you can run the cell below (uncomment first) to activate. For other versions of the Workbench, you can download the activator at https://act.tigergraphlabs.com. Detailed instructions are also included on that website. "
   ]
  },
  {
   "cell_type": "code",
   "execution_count": null,
   "id": "6e5f4fb3",
   "metadata": {},
   "outputs": [],
   "source": [
    "# Uncomment below and fill out the necessary information. For detailed instructions, please see https://act.tigergraphlabs.com\n",
    "# !mlwb activate [database address] -u [username] -p [password] -s [secret]"
   ]
  },
  {
   "cell_type": "markdown",
   "id": "ee9243a4-69ae-4a04-ab82-dc6d393e0cb7",
   "metadata": {},
   "source": [
    "### Connection to Database"
   ]
  },
  {
   "cell_type": "markdown",
   "id": "9ff08e15-5d93-4f30-8a9d-6b101b1604e4",
   "metadata": {},
   "source": [
    "The `TigerGraphConnection` class represents a connection to the TigerGraph database. Under the hood, it stores the necessary information to communicate with the database. It is able to perform quite a few database tasks. Please see its [documentation](https://docs.tigergraph.com/pytigergraph/current/intro/) for details."
   ]
  },
  {
   "cell_type": "code",
   "execution_count": 2,
   "id": "c2c4b1e8-a0e2-4026-9bb1-218cdc7ca4b9",
   "metadata": {},
   "outputs": [],
   "source": [
    "from pyTigerGraph import TigerGraphConnection\n",
    "\n",
    "conn = TigerGraphConnection(\n",
    "    host=\"http://127.0.0.1\", # Change the address to your database server's\n",
    "    graphname=\"Cora\",\n",
    "    username=\"tigergraph\",\n",
    "    password=\"tigergraph\",\n",
    ")"
   ]
  },
  {
   "cell_type": "markdown",
   "id": "ec12e546",
   "metadata": {},
   "source": [
    "<span style=\"color:red\">Uncomment cell below and run to get and set token if token authentication is enabled</span>. \n",
    "* This is required for all databases on tgcloud.\n",
    "* `<secret>` is your user secret. See https://docs.tigergraph.com/tigergraph-server/current/user-access/managing-credentials#_secrets for details.\n",
    "* If you don't know your secret, you can use `secret=conn.createSecret()` to create one."
   ]
  },
  {
   "cell_type": "code",
   "execution_count": null,
   "id": "127e0520",
   "metadata": {},
   "outputs": [],
   "source": [
    "#conn.getToken(<secret>)"
   ]
  },
  {
   "cell_type": "code",
   "execution_count": 3,
   "id": "a1dd0252-a5e5-47ee-acce-b843571c78cc",
   "metadata": {},
   "outputs": [
    {
     "data": {
      "text/plain": [
       "{'Paper': 2708}"
      ]
     },
     "execution_count": 3,
     "metadata": {},
     "output_type": "execute_result"
    }
   ],
   "source": [
    "# Number of vertices for every vertex type\n",
    "conn.getVertexCount('*')"
   ]
  },
  {
   "cell_type": "code",
   "execution_count": 4,
   "id": "318f1998-1179-4ae2-9f1b-d1b032076c03",
   "metadata": {},
   "outputs": [
    {
     "data": {
      "text/plain": [
       "{'Cite': 10556}"
      ]
     },
     "execution_count": 4,
     "metadata": {},
     "output_type": "execute_result"
    }
   ],
   "source": [
    "# Number of edges for every type\n",
    "conn.getEdgeCount()"
   ]
  },
  {
   "cell_type": "markdown",
   "id": "e8f9e835-5715-4d9e-b19b-ee1f596b8aba",
   "metadata": {},
   "source": [
    "### Graph Loader"
   ]
  },
  {
   "cell_type": "markdown",
   "id": "e6ca1a18-b862-4303-84ba-c4cad0db1581",
   "metadata": {},
   "source": [
    "`GraphLoader` pulls (possibly disconnected) subgraphs from database. Different from NeighborLoader which produces connected subgraphs, this loader gets (random) batches of edges and vertices attached to those edges.\n",
    "\n",
    "**Note**: For the first time you initialize the loader on a graph in TigerGraph, the initialization might take a minute as it installs the corresponding query to the database and optimizes it. However, the query installation only needs to be done once, so it will take no time when you initialize the loader on the same TG graph again.\n",
    "        \n",
    "There are two ways to use the data loader. See [here](https://github.com/TigerGraph-DevLabs/mlworkbench-docs/blob/main/tutorials/basics/2_dataloaders.ipynb) for examples.\n",
    "* First, it can be used as an iterable, which means you can loop through it to get every batch of data. If you load all data at once (`num_batches=1`), there will be only one batch (of all the data) in the iterator.\n",
    "* Second, you can access the `data` property of the class directly. If there is only one batch of data to load, it will give you the batch directly instead of an iterator, which might make more sense in that case. If there are multiple batches of data to load, it will return the loader itself.\n",
    "\n",
    "Args:\n",
    "* v_in_feats (list or dict, optional):\n",
    "        Vertex attributes to be used as input features. \n",
    "        If it is a list, then the attributes\n",
    "        in the list from all vertex types will be selected. An error will be thrown if\n",
    "        certain attribute doesn't exist in all vertex types. If it is a dict, keys of the \n",
    "        dict are vertex types to be selected, and values are lists of attributes to be \n",
    "        selected for each vertex type.\n",
    "        Only numeric and boolean attributes are allowed. The type of an attribute\n",
    "        is automatically determined from the database schema. Defaults to None.\n",
    "* v_out_labels (list or dict, optional):\n",
    "        Vertex attributes to be used as labels for prediction. \n",
    "        If it is a list, then the attributes\n",
    "        in the list from all vertex types will be selected. An error will be thrown if\n",
    "        certain attribute doesn't exist in all vertex types. If it is a dict, keys of the \n",
    "        dict are vertex types to be selected, and values are lists of attributes to be \n",
    "        selected for each vertex type.\n",
    "        Only numeric and boolean attributes are allowed. Defaults to None.\n",
    "* v_extra_feats (list or dict, optional):\n",
    "        Other attributes to get such as indicators of train/test data.\n",
    "        If it is a list, then the attributes\n",
    "        in the list from all vertex types will be selected. An error will be thrown if\n",
    "        certain attribute doesn't exist in all vertex types. If it is a dict, keys of the \n",
    "        dict are vertex types to be selected, and values are lists of attributes to be \n",
    "        selected for each vertex type. \n",
    "        All types of attributes are allowed. Defaults to None.\n",
    "* e_in_feats (list or dict, optional):\n",
    "        Edge attributes to be used as input features. \n",
    "        If it is a list, then the attributes\n",
    "        in the list from all edge types will be selected. An error will be thrown if\n",
    "        certain attribute doesn't exist in all edge types. If it is a dict, keys of the \n",
    "        dict are edge types to be selected, and values are lists of attributes to be \n",
    "        selected for each edge type.\n",
    "        Only numeric and boolean attributes are allowed. The type of an attribute\n",
    "        is automatically determined from the database schema. Defaults to None.\n",
    "* e_out_labels (list or dict, optional):\n",
    "        Edge attributes to be used as labels for prediction. \n",
    "        If it is a list, then the attributes in the list from all edge types will be \n",
    "        selected. An error will be thrown if certain attribute doesn't exist in all \n",
    "        edge types. If it is a dict, keys of the dict are edge types to be selected, \n",
    "        and values are lists of attributes to be selected for each edge type.\n",
    "        Only numeric and boolean attributes are allowed. Defaults to None.\n",
    "* e_extra_feats (list or dict, optional):\n",
    "        Other edge attributes to get such as indicators of train/test data. \n",
    "        If it is a list, then the attributes in the list from all edge types will be \n",
    "        selected. An error will be thrown if certain attribute doesn't exist in all \n",
    "        edge types. If it is a dict, keys of the dict are edge types to be selected, \n",
    "        and values are lists of attributes to be selected for each edge type.\n",
    "        All types of attributes are allowed. Defaults to None.\n",
    "* batch_size (int, optional):\n",
    "        Number of edges in each batch.\n",
    "        Defaults to None.\n",
    "* num_batches (int, optional):\n",
    "        Number of batches to split the edges.\n",
    "        Defaults to 1.\n",
    "* shuffle (bool, optional):\n",
    "        Whether to shuffle the data before loading.\n",
    "        Defaults to False.\n",
    "* filter_by (str, optional):\n",
    "        A boolean attribute used to indicate which edges can be included.\n",
    "        Defaults to None.\n",
    "* output_format (str, optional):\n",
    "        Format of the output data of the loader.\n",
    "        Only \"PyG\", \"DGL\" and \"dataframe\" are supported. Defaults to \"dataframe\".\n",
    "* add_self_loop (bool, optional):\n",
    "        Whether to add self-loops to the graph. Defaults to False.\n",
    "* loader_id (str, optional):\n",
    "        An identifier of the loader which can be any string. It is\n",
    "        also used as the Kafka topic name. If `None`, a random string will be generated\n",
    "        for it. Defaults to None.\n",
    "* buffer_size (int, optional):\n",
    "        Number of data batches to prefetch and store in memory. Defaults to 4.\n",
    "* timeout (int, optional):\n",
    "        Timeout value for GSQL queries, in ms. Defaults to 300000."
   ]
  },
  {
   "cell_type": "markdown",
   "id": "23581259-4981-4439-82ff-3ec71f59cb16",
   "metadata": {},
   "source": [
    "#### Load the whole graph directly to local as a PyG graph"
   ]
  },
  {
   "cell_type": "code",
   "execution_count": 6,
   "id": "6d5e7d18-b57f-4cb2-b29f-fff2349ca7d3",
   "metadata": {},
   "outputs": [
    {
     "name": "stdout",
     "output_type": "stream",
     "text": [
      "Installing and optimizing queries. It might take a minute if this is the first time you use this loader.\n",
      "Query installation finished.\n",
      "CPU times: user 220 ms, sys: 58.1 ms, total: 278 ms\n",
      "Wall time: 49.9 s\n"
     ]
    }
   ],
   "source": [
    "%%time\n",
    "graph_loader = conn.gds.graphLoader(\n",
    "    num_batches=1,\n",
    "    v_in_feats = [\"x\"],\n",
    "    v_out_labels = [\"y\"],\n",
    "    v_extra_feats = [\"train_mask\", \"val_mask\", \"test_mask\"],\n",
    "    e_in_feats=[\"time\"],\n",
    "    e_out_labels=[],\n",
    "    e_extra_feats=[\"is_train\", \"is_val\"],\n",
    "    output_format = \"PyG\")"
   ]
  },
  {
   "cell_type": "code",
   "execution_count": 7,
   "id": "e9615d76-8c04-483c-aa1a-87782478520b",
   "metadata": {},
   "outputs": [
    {
     "name": "stdout",
     "output_type": "stream",
     "text": [
      "CPU times: user 1.71 s, sys: 176 ms, total: 1.89 s\n",
      "Wall time: 1.7 s\n"
     ]
    }
   ],
   "source": [
    "%%time\n",
    "# Get the only batch of data via the `data` property\n",
    "data = graph_loader.data"
   ]
  },
  {
   "cell_type": "code",
   "execution_count": 8,
   "id": "5049afd0-403d-4abc-98cd-6dc0ec826586",
   "metadata": {},
   "outputs": [
    {
     "data": {
      "text/plain": [
       "Data(edge_index=[2, 10556], edge_feat=[10556], is_train=[10556], is_val=[10556], x=[2708, 1433], y=[2708], train_mask=[2708], val_mask=[2708], test_mask=[2708])"
      ]
     },
     "execution_count": 8,
     "metadata": {},
     "output_type": "execute_result"
    }
   ],
   "source": [
    "data"
   ]
  },
  {
   "cell_type": "markdown",
   "id": "c5fc6fb4-9e7b-4d7a-8c97-aa5d43b18468",
   "metadata": {},
   "source": [
    "#### Get subgraphs through http"
   ]
  },
  {
   "cell_type": "code",
   "execution_count": 9,
   "id": "6e375023-ec7d-4afd-b069-6220b91a758f",
   "metadata": {},
   "outputs": [
    {
     "name": "stdout",
     "output_type": "stream",
     "text": [
      "CPU times: user 3.08 ms, sys: 1.99 ms, total: 5.07 ms\n",
      "Wall time: 7.76 ms\n"
     ]
    }
   ],
   "source": [
    "%%time\n",
    "graph_loader = conn.gds.graphLoader(\n",
    "    num_batches=10,\n",
    "    v_in_feats = [\"x\"],\n",
    "    v_out_labels = [\"y\"],\n",
    "    v_extra_feats = [\"train_mask\", \"val_mask\", \"test_mask\"],\n",
    "    e_in_feats=[\"time\"],\n",
    "    e_out_labels=[],\n",
    "    e_extra_feats=[\"is_train\", \"is_val\"],\n",
    "    output_format = \"PyG\",\n",
    "    shuffle=True,\n",
    "    filter_by=None\n",
    ")"
   ]
  },
  {
   "cell_type": "code",
   "execution_count": 10,
   "id": "75992748-4d64-4f7d-92f7-fa24f4f1d8f3",
   "metadata": {},
   "outputs": [
    {
     "name": "stdout",
     "output_type": "stream",
     "text": [
      "----Batch 0----\n",
      "Data(edge_index=[2, 938], edge_feat=[938], is_train=[938], is_val=[938], x=[954, 1433], y=[954], train_mask=[954], val_mask=[954], test_mask=[954])\n",
      "----Batch 1----\n",
      "Data(edge_index=[2, 1089], edge_feat=[1089], is_train=[1089], is_val=[1089], x=[1260, 1433], y=[1260], train_mask=[1260], val_mask=[1260], test_mask=[1260])\n",
      "----Batch 2----\n",
      "Data(edge_index=[2, 1086], edge_feat=[1086], is_train=[1086], is_val=[1086], x=[1237, 1433], y=[1237], train_mask=[1237], val_mask=[1237], test_mask=[1237])\n",
      "----Batch 3----\n",
      "Data(edge_index=[2, 1062], edge_feat=[1062], is_train=[1062], is_val=[1062], x=[1256, 1433], y=[1256], train_mask=[1256], val_mask=[1256], test_mask=[1256])\n",
      "----Batch 4----\n",
      "Data(edge_index=[2, 1059], edge_feat=[1059], is_train=[1059], is_val=[1059], x=[1149, 1433], y=[1149], train_mask=[1149], val_mask=[1149], test_mask=[1149])\n",
      "----Batch 5----\n",
      "Data(edge_index=[2, 1020], edge_feat=[1020], is_train=[1020], is_val=[1020], x=[997, 1433], y=[997], train_mask=[997], val_mask=[997], test_mask=[997])\n",
      "----Batch 6----\n",
      "Data(edge_index=[2, 1079], edge_feat=[1079], is_train=[1079], is_val=[1079], x=[1228, 1433], y=[1228], train_mask=[1228], val_mask=[1228], test_mask=[1228])\n",
      "----Batch 7----\n",
      "Data(edge_index=[2, 1085], edge_feat=[1085], is_train=[1085], is_val=[1085], x=[1265, 1433], y=[1265], train_mask=[1265], val_mask=[1265], test_mask=[1265])\n",
      "----Batch 8----\n",
      "Data(edge_index=[2, 1100], edge_feat=[1100], is_train=[1100], is_val=[1100], x=[1265, 1433], y=[1265], train_mask=[1265], val_mask=[1265], test_mask=[1265])\n",
      "----Batch 9----\n",
      "Data(edge_index=[2, 1038], edge_feat=[1038], is_train=[1038], is_val=[1038], x=[1141, 1433], y=[1141], train_mask=[1141], val_mask=[1141], test_mask=[1141])\n",
      "CPU times: user 20.2 s, sys: 866 ms, total: 21.1 s\n",
      "Wall time: 3.64 s\n"
     ]
    }
   ],
   "source": [
    "%%time\n",
    "for i, batch in enumerate(graph_loader):\n",
    "    print(\"----Batch {}----\".format(i))\n",
    "    print(batch)"
   ]
  },
  {
   "cell_type": "markdown",
   "id": "6213a648",
   "metadata": {},
   "source": [
    "#### For heterogeneous graphs"
   ]
  },
  {
   "cell_type": "markdown",
   "id": "cf8dac11",
   "metadata": {},
   "source": [
    "Since `Cora` is a homogeneous graph, we will connect to a different graph to demostrate the use case of heterogeneous graphs."
   ]
  },
  {
   "cell_type": "code",
   "execution_count": 11,
   "id": "eb2bfb42",
   "metadata": {},
   "outputs": [],
   "source": [
    "conn = TigerGraphConnection(\n",
    "    host=\"http://127.0.0.1\", # Change the address to your database server's\n",
    "    graphname=\"hetero\",\n",
    "    username=\"tigergraph\",\n",
    "    password=\"tigergraph\",\n",
    "    gsqlSecret=\"\" # secret instead of user/pass is required for TG cloud DBs created after 7/5/2022  \n",
    ")\n",
    "\n",
    "# Uncomment below to get and set token if token authentication is enabled. \n",
    "#conn.getToken(<secret>) # <secret> is your user secret. See https://docs.tigergraph.com/tigergraph-server/current/user-access/managing-credentials#_secrets for details."
   ]
  },
  {
   "cell_type": "code",
   "execution_count": 12,
   "id": "223e6cc9",
   "metadata": {},
   "outputs": [
    {
     "name": "stdout",
     "output_type": "stream",
     "text": [
      "---- Graph hetero\n",
      "Vertex Types:\n",
      "- VERTEX v0(PRIMARY_ID id INT, x LIST<DOUBLE>, y INT, train_mask BOOL, val_mask BOOL, test_mask BOOL) WITH STATS=\"OUTDEGREE_BY_EDGETYPE\", PRIMARY_ID_AS_ATTRIBUTE=\"true\"\n",
      "- VERTEX v1(PRIMARY_ID id INT, x LIST<DOUBLE>, train_mask BOOL, val_mask BOOL, test_mask BOOL) WITH STATS=\"OUTDEGREE_BY_EDGETYPE\", PRIMARY_ID_AS_ATTRIBUTE=\"true\"\n",
      "- VERTEX v2(PRIMARY_ID id INT, x LIST<DOUBLE>, train_mask BOOL, val_mask BOOL, test_mask BOOL) WITH STATS=\"OUTDEGREE_BY_EDGETYPE\", PRIMARY_ID_AS_ATTRIBUTE=\"true\"\n",
      "Edge Types:\n",
      "- DIRECTED EDGE v0v0(FROM v0, TO v0, is_train BOOL, is_val BOOL)\n",
      "- DIRECTED EDGE v1v1(FROM v1, TO v1, is_train BOOL, is_val BOOL)\n",
      "- DIRECTED EDGE v1v2(FROM v1, TO v2, is_train BOOL, is_val BOOL)\n",
      "- DIRECTED EDGE v2v0(FROM v2, TO v0, is_train BOOL, is_val BOOL)\n",
      "- DIRECTED EDGE v2v1(FROM v2, TO v1, is_train BOOL, is_val BOOL)\n",
      "- DIRECTED EDGE v2v2(FROM v2, TO v2, is_train BOOL, is_val BOOL)\n",
      "\n",
      "Graphs:\n",
      "- Graph hetero(v0:v, v1:v, v2:v, v0v0:e, v1v1:e, v1v2:e, v2v0:e, v2v1:e, v2v2:e)\n",
      "Jobs:\n",
      "- CREATE LOADING JOB load_hetero_data FOR GRAPH hetero {\n",
      "DEFINE FILENAME v2v0_csv = \"./v2v0.csv\";\n",
      "DEFINE FILENAME v2v1_csv = \"./v2v1.csv\";\n",
      "DEFINE FILENAME v2v2_csv = \"./v2v2.csv\";\n",
      "DEFINE FILENAME v1_csv = \"./v1.csv\";\n",
      "DEFINE FILENAME v0v0_csv = \"./v0v0.csv\";\n",
      "DEFINE FILENAME v2_csv = \"./v2.csv\";\n",
      "DEFINE FILENAME v1v1_csv = \"./v1v1.csv\";\n",
      "DEFINE FILENAME v1v2_csv = \"./v1v2.csv\";\n",
      "DEFINE FILENAME v0_csv = \"./v0.csv\";\n",
      "LOAD v0_csv TO VERTEX v0 VALUES($\"id\", SPLIT($\"x\", \" \"), $\"y\", _, _, _) USING SEPARATOR=\",\", HEADER=\"true\", EOL=\"\\n\";\n",
      "LOAD v1_csv TO VERTEX v1 VALUES($\"id\", SPLIT($\"x\", \" \"), _, _, _) USING SEPARATOR=\",\", HEADER=\"true\", EOL=\"\\n\";\n",
      "LOAD v2_csv TO VERTEX v2 VALUES($\"id\", SPLIT($\"x\", \" \"), _, _, _) USING SEPARATOR=\",\", HEADER=\"true\", EOL=\"\\n\";\n",
      "LOAD v0v0_csv TO EDGE v0v0 VALUES($\"source\", $\"target\", _, _) USING SEPARATOR=\",\", HEADER=\"true\", EOL=\"\\n\";\n",
      "LOAD v1v1_csv TO EDGE v1v1 VALUES($\"source\", $\"target\", _, _) USING SEPARATOR=\",\", HEADER=\"true\", EOL=\"\\n\";\n",
      "LOAD v1v2_csv TO EDGE v1v2 VALUES($\"source\", $\"target\", _, _) USING SEPARATOR=\",\", HEADER=\"true\", EOL=\"\\n\";\n",
      "LOAD v2v0_csv TO EDGE v2v0 VALUES($\"source\", $\"target\", _, _) USING SEPARATOR=\",\", HEADER=\"true\", EOL=\"\\n\";\n",
      "LOAD v2v1_csv TO EDGE v2v1 VALUES($\"source\", $\"target\", _, _) USING SEPARATOR=\",\", HEADER=\"true\", EOL=\"\\n\";\n",
      "LOAD v2v2_csv TO EDGE v2v2 VALUES($\"source\", $\"target\", _, _) USING SEPARATOR=\",\", HEADER=\"true\", EOL=\"\\n\";\n",
      "}\n",
      "\n",
      "- CREATE SCHEMA_CHANGE JOB hetero_job FOR GRAPH hetero {\n",
      "ADD VERTEX v0(PRIMARY_ID id INT, x LIST<DOUBLE>, y INT, train_mask BOOL, val_mask BOOL, test_mask BOOL) WITH STATS=\"OUTDEGREE_BY_EDGETYPE\", PRIMARY_ID_AS_ATTRIBUTE=\"true\";\n",
      "ADD VERTEX v1(PRIMARY_ID id INT, x LIST<DOUBLE>, train_mask BOOL, val_mask BOOL, test_mask BOOL) WITH STATS=\"OUTDEGREE_BY_EDGETYPE\", PRIMARY_ID_AS_ATTRIBUTE=\"true\";\n",
      "ADD VERTEX v2(PRIMARY_ID id INT, x LIST<DOUBLE>, train_mask BOOL, val_mask BOOL, test_mask BOOL) WITH STATS=\"OUTDEGREE_BY_EDGETYPE\", PRIMARY_ID_AS_ATTRIBUTE=\"true\";\n",
      "ADD DIRECTED EDGE v0v0(FROM v0, TO v0, is_train BOOL, is_val BOOL);\n",
      "ADD DIRECTED EDGE v1v1(FROM v1, TO v1, is_train BOOL, is_val BOOL);\n",
      "ADD DIRECTED EDGE v1v2(FROM v1, TO v2, is_train BOOL, is_val BOOL);\n",
      "ADD DIRECTED EDGE v2v0(FROM v2, TO v0, is_train BOOL, is_val BOOL);\n",
      "ADD DIRECTED EDGE v2v1(FROM v2, TO v1, is_train BOOL, is_val BOOL);\n",
      "ADD DIRECTED EDGE v2v2(FROM v2, TO v2, is_train BOOL, is_val BOOL);\n",
      "}\n",
      "\n",
      "Queries:\n",
      "- edge_loader_is_train_is_val(int num_batches, bool shuffle, string filter_by, set<string> e_types, string kafka_address, string kafka_topic, string security_protocol, string sasl_mechanism, string sasl_username, string sasl_password, string ssl_ca_location) (installed v2)\n",
      "- edge_nei_loader_x_y_train_mask_val_mask_test_mask_is_train(int num_batches, int num_neighbors, int num_hops, bool shuffle, string filter_by, set<string> v_types, set<string> e_types, set<string> seed_types, string kafka_address, string kafka_topic, string security_protocol, string sasl_mechanism, string sasl_username, string sasl_password, string ssl_ca_location) (installed v2)\n",
      "\n",
      "\n",
      "\n",
      "\n"
     ]
    }
   ],
   "source": [
    "print(conn.gsql(\"ls\"))"
   ]
  },
  {
   "cell_type": "code",
   "execution_count": 13,
   "id": "4bbc3e63",
   "metadata": {},
   "outputs": [
    {
     "name": "stdout",
     "output_type": "stream",
     "text": [
      "Installing and optimizing queries. It might take a minute if this is the first time you use this loader.\n",
      "Query installation finished.\n"
     ]
    }
   ],
   "source": [
    "loader = conn.gds.graphLoader(\n",
    "    v_in_feats={\"v0\": [\"x\"],\n",
    "                \"v1\": [\"x\"]},\n",
    "    v_out_labels={\"v0\": [\"y\"]},\n",
    "    v_extra_feats={\"v0\": [\"train_mask\", \"val_mask\", \"test_mask\"]},\n",
    "    e_extra_feats={\"v0v0\": [\"is_train\", \"is_val\"],\n",
    "                    \"v1v1\": [\"is_train\", \"is_val\"]},\n",
    "    batch_size=1024,\n",
    "    shuffle=False,\n",
    "    filter_by=None,\n",
    "    output_format=\"PyG\",\n",
    "    add_self_loop=False,\n",
    "    loader_id=None,\n",
    "    buffer_size=4\n",
    ")"
   ]
  },
  {
   "cell_type": "code",
   "execution_count": 14,
   "id": "095d3c01",
   "metadata": {},
   "outputs": [
    {
     "name": "stdout",
     "output_type": "stream",
     "text": [
      "----Batch 0----\n",
      "HeteroData(\n",
      "  \u001b[1mv0\u001b[0m={\n",
      "    x=[76, 77],\n",
      "    y=[76],\n",
      "    train_mask=[76],\n",
      "    val_mask=[76],\n",
      "    test_mask=[76]\n",
      "  },\n",
      "  \u001b[1mv1\u001b[0m={ x=[110, 57] },\n",
      "  \u001b[1m(v0, v0v0, v0)\u001b[0m={\n",
      "    edge_index=[2, 413],\n",
      "    is_train=[413],\n",
      "    is_val=[413]\n",
      "  },\n",
      "  \u001b[1m(v1, v1v1, v1)\u001b[0m={\n",
      "    edge_index=[2, 558],\n",
      "    is_train=[558],\n",
      "    is_val=[558]\n",
      "  }\n",
      ")\n",
      "----Batch 1----\n",
      "HeteroData(\n",
      "  \u001b[1mv0\u001b[0m={\n",
      "    x=[76, 77],\n",
      "    y=[76],\n",
      "    train_mask=[76],\n",
      "    val_mask=[76],\n",
      "    test_mask=[76]\n",
      "  },\n",
      "  \u001b[1mv1\u001b[0m={ x=[110, 57] },\n",
      "  \u001b[1m(v0, v0v0, v0)\u001b[0m={\n",
      "    edge_index=[2, 297],\n",
      "    is_train=[297],\n",
      "    is_val=[297]\n",
      "  },\n",
      "  \u001b[1m(v1, v1v1, v1)\u001b[0m={\n",
      "    edge_index=[2, 486],\n",
      "    is_train=[486],\n",
      "    is_val=[486]\n",
      "  }\n",
      ")\n",
      "CPU times: user 70.4 ms, sys: 11 ms, total: 81.4 ms\n",
      "Wall time: 98.4 ms\n"
     ]
    }
   ],
   "source": [
    "%%time\n",
    "for i, batch in enumerate(loader):\n",
    "    print(\"----Batch {}----\".format(i))\n",
    "    print(batch)"
   ]
  },
  {
   "cell_type": "markdown",
   "id": "1c381f5c-bc5d-435b-bfcc-5c2a6e9d1972",
   "metadata": {
    "tags": []
   },
   "source": [
    "### Streaming through Kafka\n",
    "\n",
    "**Note**: Kafka streaming function is only available for the Enterprise Edition. You need to activate the Enterprise Edition to use it. "
   ]
  },
  {
   "cell_type": "code",
   "execution_count": null,
   "id": "64e04855",
   "metadata": {},
   "outputs": [],
   "source": [
    "conn = TigerGraphConnection(\n",
    "    host=\"http://127.0.0.1\", # Change the address to your database server's\n",
    "    graphname=\"Cora\",\n",
    "    username=\"tigergraph\",\n",
    "    password=\"tigergraph\",\n",
    "    gsqlSecret=\"\" # secret instead of user/pass is required for TG cloud DBs created after 7/5/2022  \n",
    ")\n",
    "\n",
    "# Uncomment below to get and set token if token authentication is enabled. \n",
    "#conn.getToken(<secret>) # <secret> is your user secret. See https://docs.tigergraph.com/tigergraph-server/current/user-access/managing-credentials#_secrets for details."
   ]
  },
  {
   "cell_type": "markdown",
   "id": "5191804f-acc6-45c1-a616-f4395db63036",
   "metadata": {},
   "source": [
    "#### Configure Kafka\n",
    "Set up Kafka here. Once configured, the settings will be shared with all newly created data loaders and no need to set up Kafka for each loader. Please see official [doc](https://docs.tigergraph.com/pytigergraph/current/gds/gds#_configurekafka) for detailed settings."
   ]
  },
  {
   "cell_type": "code",
   "execution_count": null,
   "id": "32785a4b-09b8-42b1-a45f-cd92121b2b4b",
   "metadata": {},
   "outputs": [],
   "source": [
    "conn.gds.configureKafka(\n",
    "    kafka_address=\"127.0.0.1:9092\",\n",
    "    kafka_security_protocol=\"SASL_PLAINTEXT\",\n",
    "    kafka_sasl_mechanism=\"PLAIN\",\n",
    "    kafka_sasl_plain_username=\"your username\",\n",
    "    kafka_sasl_plain_password=\"your password\"\n",
    ")"
   ]
  },
  {
   "cell_type": "markdown",
   "id": "28719c2a-364e-4337-8d4a-705d64bf219e",
   "metadata": {},
   "source": [
    "#### Get subgraphs"
   ]
  },
  {
   "cell_type": "code",
   "execution_count": 11,
   "id": "2c06fbca-ce98-4dc3-a047-dc42bcbec5fe",
   "metadata": {},
   "outputs": [
    {
     "name": "stderr",
     "output_type": "stream",
     "text": [
      "WARNING:kafka.coordinator.consumer:group_id is None: disabling auto-commit.\n"
     ]
    },
    {
     "name": "stdout",
     "output_type": "stream",
     "text": [
      "Installing and optimizing queries. It might take a minute if this is the first time you use this loader.\n",
      "Query installation finished.\n",
      "CPU times: user 55.7 ms, sys: 15.1 ms, total: 70.8 ms\n",
      "Wall time: 26 s\n"
     ]
    }
   ],
   "source": [
    "%%time\n",
    "graph_loader = conn.gds.graphLoader(\n",
    "    num_batches=10,\n",
    "    v_in_feats = [\"x\"],\n",
    "    v_out_labels = [\"y\"],\n",
    "    v_extra_feats = [\"train_mask\", \"val_mask\", \"test_mask\"],\n",
    "    e_in_feats=[\"time\"],\n",
    "    e_out_labels=[],\n",
    "    e_extra_feats=[\"is_train\", \"is_val\"],\n",
    "    output_format = \"PyG\",\n",
    "    shuffle=True,\n",
    "    filter_by=None,\n",
    ")"
   ]
  },
  {
   "cell_type": "code",
   "execution_count": 12,
   "id": "e5a69163-1358-4263-91e2-903978914871",
   "metadata": {},
   "outputs": [
    {
     "name": "stdout",
     "output_type": "stream",
     "text": [
      "----Batch 0----\n",
      "Data(edge_index=[2, 1018], edge_feat=[1018], is_train=[1018], is_val=[1018], x=[1006, 1433], y=[1006], train_mask=[1006], val_mask=[1006], test_mask=[1006])\n",
      "----Batch 1----\n",
      "Data(edge_index=[2, 1036], edge_feat=[1036], is_train=[1036], is_val=[1036], x=[1226, 1433], y=[1226], train_mask=[1226], val_mask=[1226], test_mask=[1226])\n",
      "----Batch 2----\n",
      "Data(edge_index=[2, 1083], edge_feat=[1083], is_train=[1083], is_val=[1083], x=[1234, 1433], y=[1234], train_mask=[1234], val_mask=[1234], test_mask=[1234])\n",
      "----Batch 3----\n",
      "Data(edge_index=[2, 1074], edge_feat=[1074], is_train=[1074], is_val=[1074], x=[1263, 1433], y=[1263], train_mask=[1263], val_mask=[1263], test_mask=[1263])\n",
      "----Batch 4----\n",
      "Data(edge_index=[2, 1023], edge_feat=[1023], is_train=[1023], is_val=[1023], x=[1107, 1433], y=[1107], train_mask=[1107], val_mask=[1107], test_mask=[1107])\n",
      "----Batch 5----\n",
      "Data(edge_index=[2, 1072], edge_feat=[1072], is_train=[1072], is_val=[1072], x=[1040, 1433], y=[1040], train_mask=[1040], val_mask=[1040], test_mask=[1040])\n",
      "----Batch 6----\n",
      "Data(edge_index=[2, 1053], edge_feat=[1053], is_train=[1053], is_val=[1053], x=[1231, 1433], y=[1231], train_mask=[1231], val_mask=[1231], test_mask=[1231])\n",
      "----Batch 7----\n",
      "Data(edge_index=[2, 1052], edge_feat=[1052], is_train=[1052], is_val=[1052], x=[1238, 1433], y=[1238], train_mask=[1238], val_mask=[1238], test_mask=[1238])\n",
      "----Batch 8----\n",
      "Data(edge_index=[2, 1046], edge_feat=[1046], is_train=[1046], is_val=[1046], x=[1277, 1433], y=[1277], train_mask=[1277], val_mask=[1277], test_mask=[1277])\n",
      "----Batch 9----\n",
      "Data(edge_index=[2, 1099], edge_feat=[1099], is_train=[1099], is_val=[1099], x=[1161, 1433], y=[1161], train_mask=[1161], val_mask=[1161], test_mask=[1161])\n",
      "CPU times: user 19.7 s, sys: 864 ms, total: 20.5 s\n",
      "Wall time: 3.29 s\n"
     ]
    }
   ],
   "source": [
    "%%time\n",
    "for i, batch in enumerate(graph_loader):\n",
    "    print(\"----Batch {}----\".format(i))\n",
    "    print(batch)"
   ]
  },
  {
   "cell_type": "code",
   "execution_count": null,
   "id": "2afe99f6",
   "metadata": {},
   "outputs": [],
   "source": []
  }
 ],
 "metadata": {
  "environment": {
   "name": "pytorch-gpu.1-9.m81",
   "type": "gcloud",
   "uri": "gcr.io/deeplearning-platform-release/pytorch-gpu.1-9:m81"
  },
  "interpreter": {
   "hash": "96daeecb52bbbb8e3aef04d2f9c6a1e01f271d07cea30059f3c558ef00b717d2"
  },
  "kernelspec": {
   "display_name": "PyTorch",
   "language": "python",
   "name": "python3"
  },
  "language_info": {
   "codemirror_mode": {
    "name": "ipython",
    "version": 3
   },
   "file_extension": ".py",
   "mimetype": "text/x-python",
   "name": "python",
   "nbconvert_exporter": "python",
   "pygments_lexer": "ipython3",
   "version": "3.9.13"
  },
  "toc-autonumbering": false,
  "toc-showtags": false
 },
 "nbformat": 4,
 "nbformat_minor": 5
}
