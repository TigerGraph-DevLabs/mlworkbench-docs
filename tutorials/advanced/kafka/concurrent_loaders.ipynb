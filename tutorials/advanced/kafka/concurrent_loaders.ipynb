{
 "cells": [
  {
   "cell_type": "code",
   "execution_count": 1,
   "metadata": {},
   "outputs": [],
   "source": [
    "from pyTigerGraph import TigerGraphConnection\n",
    "import torch"
   ]
  },
  {
   "cell_type": "code",
   "execution_count": 2,
   "metadata": {},
   "outputs": [],
   "source": [
    "def load_data(dataloader):\n",
    "    data = []\n",
    "    for epoch in range(2):\n",
    "        for batch in dataloader:\n",
    "            data.append(batch)\n",
    "    return data"
   ]
  },
  {
   "cell_type": "code",
   "execution_count": 3,
   "metadata": {},
   "outputs": [],
   "source": [
    "# conn1 is from machine 1\n",
    "conn1 = TigerGraphConnection(\n",
    "    host=\"http://35.230.92.92\", \n",
    "    graphname=\"Cora\")"
   ]
  },
  {
   "cell_type": "code",
   "execution_count": 4,
   "metadata": {},
   "outputs": [],
   "source": [
    "conn1.gds.configureKafka(\n",
    "    kafka_address=\"34.82.171.137:9092\",\n",
    "    kafka_auto_del_topic=False,\n",
    "    kafka_skip_produce=False,\n",
    "    kafka_add_topic_per_epoch=True,\n",
    "    kafka_del_topic_per_epoch=False,\n",
    ")"
   ]
  },
  {
   "cell_type": "code",
   "execution_count": 4,
   "metadata": {},
   "outputs": [],
   "source": [
    "conn1.gds.configureKafka(\n",
    "    kafka_address=\"34.82.171.137:9092\",\n",
    ")"
   ]
  },
  {
   "cell_type": "code",
   "execution_count": 5,
   "metadata": {},
   "outputs": [],
   "source": [
    "dataloader1 = conn1.gds.neighborLoader(\n",
    "    v_in_feats=[\"x\"],\n",
    "    v_out_labels=[\"y\"],\n",
    "    batch_size=16,\n",
    "    num_neighbors=10,\n",
    "    num_hops=2,\n",
    "    shuffle=True,\n",
    "    filter_by=\"train_mask\",\n",
    "    output_format=\"PyG\",\n",
    "    loader_id=\"test_multi_consumer\",\n",
    ")"
   ]
  },
  {
   "cell_type": "code",
   "execution_count": 6,
   "metadata": {},
   "outputs": [],
   "source": [
    "res1 = load_data(dataloader1)"
   ]
  },
  {
   "cell_type": "code",
   "execution_count": 7,
   "metadata": {},
   "outputs": [],
   "source": [
    "# conn2 is from machine 2\n",
    "conn2 = TigerGraphConnection(\n",
    "    host=\"http://35.230.92.92\", \n",
    "    graphname=\"Cora\")"
   ]
  },
  {
   "cell_type": "code",
   "execution_count": 8,
   "metadata": {},
   "outputs": [],
   "source": [
    "conn2.gds.configureKafka(\n",
    "    kafka_address=\"34.82.171.137:9092\",\n",
    "    kafka_auto_del_topic=False,\n",
    "    kafka_skip_produce=True,\n",
    "    kafka_add_topic_per_epoch=True,\n",
    "    kafka_del_topic_per_epoch=False\n",
    ")"
   ]
  },
  {
   "cell_type": "code",
   "execution_count": 9,
   "metadata": {},
   "outputs": [
    {
     "name": "stderr",
     "output_type": "stream",
     "text": [
      "WARNING:kafka.coordinator.consumer:group_id is None: disabling auto-commit.\n"
     ]
    }
   ],
   "source": [
    "dataloader2 = conn2.gds.neighborLoader(\n",
    "    v_in_feats=[\"x\"],\n",
    "    v_out_labels=[\"y\"],\n",
    "    batch_size=16,\n",
    "    num_neighbors=10,\n",
    "    num_hops=2,\n",
    "    shuffle=True,\n",
    "    filter_by=\"train_mask\",\n",
    "    output_format=\"PyG\",\n",
    "    loader_id=\"test_multi_consumer\",\n",
    ")"
   ]
  },
  {
   "cell_type": "code",
   "execution_count": 10,
   "metadata": {},
   "outputs": [],
   "source": [
    "res2 = load_data(dataloader2)"
   ]
  },
  {
   "cell_type": "code",
   "execution_count": 20,
   "metadata": {},
   "outputs": [],
   "source": [
    "# Check if the two connections get the same data\n",
    "assert len(res1) == len(res2)\n",
    "\n",
    "for i,j in zip(res1, res2):\n",
    "    assert torch.allclose(i.edge_index, j.edge_index)\n",
    "    assert torch.allclose(i.x, j.x)\n",
    "    assert torch.allclose(i.y, j.y)\n",
    "    assert torch.allclose(i.is_seed, j.is_seed)"
   ]
  },
  {
   "cell_type": "code",
   "execution_count": null,
   "metadata": {},
   "outputs": [],
   "source": []
  }
 ],
 "metadata": {
  "kernelspec": {
   "display_name": "Python 3.9.13",
   "language": "python",
   "name": "python3"
  },
  "language_info": {
   "codemirror_mode": {
    "name": "ipython",
    "version": 3
   },
   "file_extension": ".py",
   "mimetype": "text/x-python",
   "name": "python",
   "nbconvert_exporter": "python",
   "pygments_lexer": "ipython3",
   "version": "3.9.13"
  },
  "orig_nbformat": 4,
  "vscode": {
   "interpreter": {
    "hash": "96daeecb52bbbb8e3aef04d2f9c6a1e01f271d07cea30059f3c558ef00b717d2"
   }
  }
 },
 "nbformat": 4,
 "nbformat_minor": 2
}
